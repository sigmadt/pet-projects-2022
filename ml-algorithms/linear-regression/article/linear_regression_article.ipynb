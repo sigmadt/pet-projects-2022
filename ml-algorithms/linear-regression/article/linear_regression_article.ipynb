{
 "cells": [
  {
   "cell_type": "markdown",
   "id": "60640c90",
   "metadata": {
    "id": "ugxVHO5v9saG",
    "papermill": {
     "duration": 0.04413,
     "end_time": "2021-10-29T03:01:18.305914",
     "exception": false,
     "start_time": "2021-10-29T03:01:18.261784",
     "status": "completed"
    },
    "tags": []
   },
   "source": [
    "# Imports"
   ]
  },
  {
   "cell_type": "code",
   "execution_count": 1,
   "id": "1ced54a4",
   "metadata": {
    "execution": {
     "iopub.execute_input": "2021-10-29T03:01:18.397587Z",
     "iopub.status.busy": "2021-10-29T03:01:18.396866Z",
     "iopub.status.idle": "2021-10-29T03:01:19.723194Z",
     "shell.execute_reply": "2021-10-29T03:01:19.723825Z",
     "shell.execute_reply.started": "2021-10-29T02:50:10.948090Z"
    },
    "id": "s9-E5w0Lm-dM",
    "papermill": {
     "duration": 1.376788,
     "end_time": "2021-10-29T03:01:19.724184",
     "exception": false,
     "start_time": "2021-10-29T03:01:18.347396",
     "status": "completed"
    },
    "tags": []
   },
   "outputs": [],
   "source": [
    "from sklearn.datasets import make_blobs, make_moons\n",
    "from sklearn.model_selection import train_test_split\n",
    "import numpy as np\n",
    "import pandas as pd\n",
    "from numpy.linalg import inv\n",
    "import random\n",
    "import matplotlib.pyplot as plt\n",
    "import matplotlib\n",
    "import copy\n",
    "import seaborn as sns\n",
    "from sklearn.preprocessing import StandardScaler\n",
    "\n",
    "import warnings\n",
    "warnings.filterwarnings(\"ignore\")\n",
    "\n",
    "sns.set()\n",
    "\n",
    "%config InlineBackend.figure_format = 'retina'"
   ]
  },
  {
   "cell_type": "markdown",
   "id": "09720755",
   "metadata": {
    "id": "FumrpCqf9-pf",
    "papermill": {
     "duration": 0.040032,
     "end_time": "2021-10-29T03:01:19.804540",
     "exception": false,
     "start_time": "2021-10-29T03:01:19.764508",
     "status": "completed"
    },
    "tags": []
   },
   "source": [
    "In this task we are gonna to implement simple Linear Regression which works with the matrices and compute optimal weights for the model. Let's start from scratch and write class NormalLR that building optimal weights for model relying on mathematic prooves we got on lectures. Firstly, we need to store shapes for the result matrices. Also for the sake of multiplying large matrices I will separate inverted and other matrices."
   ]
  },
  {
   "cell_type": "markdown",
   "id": "55efeb5f",
   "metadata": {
    "id": "BRxhwJtcSKym",
    "papermill": {
     "duration": 0.040053,
     "end_time": "2021-10-29T03:01:19.886046",
     "exception": false,
     "start_time": "2021-10-29T03:01:19.845993",
     "status": "completed"
    },
    "tags": []
   },
   "source": [
    "$$\\mathbf{y}=\\mathbf{X} \\mathbf{w}+\\varepsilon,$$\n",
    "where\n",
    "- $\\mathbf{w} \\in \\mathbb{R}^{m+1}-$ is a $(m+1) \\times 1$ column-vector of the model parameters (in machine learning, these parameters are often referred to as weights);\n",
    "- $\\mathbf{X} \\in \\mathbb{R}^{n \\times(m+1)}-$ is a $n \\times(m+1)$ matrix of observations and their features, (including the fictitious column on the left) with full column rank): $\\operatorname{rank}(\\mathbf{X})=m+1$\n",
    "- $\\epsilon \\in \\mathbb{R}^{n}-$ is a $n \\times 1$ random column-vector, referred to as error or noise;\n",
    "- $\\mathbf{y} \\in \\mathbb{R}^{n}-$ is a $n \\times 1$ column-vector - the dependent (or target) variable.\n",
    "\n",
    "So, our optimal weights after finding minimum are:\n",
    "$\\mathbf{w}^{*}=\\left(\\mathbf{X}^{\\mathrm{T}} \\mathbf{X}\\right)^{-1} \\mathbf{X}^{\\mathrm{T}} \\mathbf{y}$"
   ]
  },
  {
   "cell_type": "code",
   "execution_count": 2,
   "id": "ca51bf45",
   "metadata": {
    "execution": {
     "iopub.execute_input": "2021-10-29T03:01:19.976675Z",
     "iopub.status.busy": "2021-10-29T03:01:19.975855Z",
     "iopub.status.idle": "2021-10-29T03:01:19.977418Z",
     "shell.execute_reply": "2021-10-29T03:01:19.977939Z",
     "shell.execute_reply.started": "2021-10-29T02:50:12.266408Z"
    },
    "id": "KKYPh08H-OnS",
    "papermill": {
     "duration": 0.051593,
     "end_time": "2021-10-29T03:01:19.978139",
     "exception": false,
     "start_time": "2021-10-29T03:01:19.926546",
     "status": "completed"
    },
    "tags": []
   },
   "outputs": [],
   "source": [
    "class NormalLR:\n",
    "    def __init__(self, reg_coef=0):\n",
    "        self.W = None\n",
    "        self.C = reg_coef\n",
    "        self.n_rows = None\n",
    "        self.n_cols = None\n",
    "        self.model_fitted = False\n",
    "\n",
    "    \n",
    "    def fit(self, X, y):\n",
    "        self.n_rows, self.n_cols = X.shape[0], X.shape[1]\n",
    "        Z = X.T @ X + self.C * np.identity(self.n_cols)\n",
    "        self.W = inv(Z) @ X.T @ y\n",
    "        self.model_fitted = True\n",
    "\n",
    "    \n",
    "    def predict(self, X):\n",
    "        if self.model_fitted:\n",
    "            y_pred = np.dot(X, self.W)\n",
    "            return y_pred\n",
    "        else:\n",
    "            print(\"It looks like you haven't fit your Awesome LR model. Use .fit method.\")\n"
   ]
  },
  {
   "cell_type": "markdown",
   "id": "20af962d",
   "metadata": {
    "id": "PY1-5zFJUXZY",
    "papermill": {
     "duration": 0.041096,
     "end_time": "2021-10-29T03:01:20.059735",
     "exception": false,
     "start_time": "2021-10-29T03:01:20.018639",
     "status": "completed"
    },
    "tags": []
   },
   "source": [
    "\n",
    "Also, we need to defined `RMSE` metric."
   ]
  },
  {
   "cell_type": "code",
   "execution_count": 3,
   "id": "3f2dea9a",
   "metadata": {
    "execution": {
     "iopub.execute_input": "2021-10-29T03:01:20.145246Z",
     "iopub.status.busy": "2021-10-29T03:01:20.144533Z",
     "iopub.status.idle": "2021-10-29T03:01:20.148693Z",
     "shell.execute_reply": "2021-10-29T03:01:20.149370Z",
     "shell.execute_reply.started": "2021-10-29T02:50:24.738145Z"
    },
    "id": "sZ8Wg9M7-7eo",
    "papermill": {
     "duration": 0.048094,
     "end_time": "2021-10-29T03:01:20.149754",
     "exception": false,
     "start_time": "2021-10-29T03:01:20.101660",
     "status": "completed"
    },
    "tags": []
   },
   "outputs": [],
   "source": [
    "def RMSE(y_true, y_pred):\n",
    "    res_vector = (y_true - y_pred) ** 2\n",
    "    return np.sqrt(np.mean(res_vector))"
   ]
  },
  {
   "cell_type": "markdown",
   "id": "9f9f85c2",
   "metadata": {
    "id": "zMSHTLG1UtC5",
    "papermill": {
     "duration": 0.125981,
     "end_time": "2021-10-29T03:01:20.316492",
     "exception": false,
     "start_time": "2021-10-29T03:01:20.190511",
     "status": "completed"
    },
    "tags": []
   },
   "source": [
    "Let's generate test data and check out how implemented LinReg works"
   ]
  },
  {
   "cell_type": "code",
   "execution_count": 4,
   "id": "53de494c",
   "metadata": {
    "execution": {
     "iopub.execute_input": "2021-10-29T03:01:20.405274Z",
     "iopub.status.busy": "2021-10-29T03:01:20.404438Z",
     "iopub.status.idle": "2021-10-29T03:01:20.411925Z",
     "shell.execute_reply": "2021-10-29T03:01:20.411342Z",
     "shell.execute_reply.started": "2021-10-29T02:50:34.593331Z"
    },
    "id": "mryqCd6aWEXJ",
    "papermill": {
     "duration": 0.054372,
     "end_time": "2021-10-29T03:01:20.412098",
     "exception": false,
     "start_time": "2021-10-29T03:01:20.357726",
     "status": "completed"
    },
    "tags": []
   },
   "outputs": [],
   "source": [
    "def generate_synthetic(size, dim=6, noise=0.1):\n",
    "    X = np.random.randn(size, dim)\n",
    "    w = np.random.randn(dim + 1)\n",
    "    noise = noise * np.random.randn(size)\n",
    "    y = X.dot(w[1:]) + w[0] + noise\n",
    "    return X, y\n",
    "\n",
    "X, y = generate_synthetic(1024)   "
   ]
  },
  {
   "cell_type": "markdown",
   "id": "a5a6fb9d",
   "metadata": {
    "id": "S8-sKcrWWKLS",
    "papermill": {
     "duration": 0.041468,
     "end_time": "2021-10-29T03:01:20.496030",
     "exception": false,
     "start_time": "2021-10-29T03:01:20.454562",
     "status": "completed"
    },
    "tags": []
   },
   "source": [
    "Splitting data for validating"
   ]
  },
  {
   "cell_type": "code",
   "execution_count": 5,
   "id": "9260191e",
   "metadata": {
    "execution": {
     "iopub.execute_input": "2021-10-29T03:01:20.584738Z",
     "iopub.status.busy": "2021-10-29T03:01:20.584104Z",
     "iopub.status.idle": "2021-10-29T03:01:20.590990Z",
     "shell.execute_reply": "2021-10-29T03:01:20.591533Z",
     "shell.execute_reply.started": "2021-10-29T02:50:38.479539Z"
    },
    "id": "K3Qfw6ddWGiA",
    "papermill": {
     "duration": 0.052125,
     "end_time": "2021-10-29T03:01:20.591711",
     "exception": false,
     "start_time": "2021-10-29T03:01:20.539586",
     "status": "completed"
    },
    "tags": []
   },
   "outputs": [],
   "source": [
    "X_train, X_test, y_train, y_test = train_test_split(X, y, train_size=0.8)"
   ]
  },
  {
   "cell_type": "code",
   "execution_count": 6,
   "id": "e206595c",
   "metadata": {
    "execution": {
     "iopub.execute_input": "2021-10-29T03:01:20.676273Z",
     "iopub.status.busy": "2021-10-29T03:01:20.675606Z",
     "iopub.status.idle": "2021-10-29T03:01:20.691141Z",
     "shell.execute_reply": "2021-10-29T03:01:20.692313Z",
     "shell.execute_reply.started": "2021-10-29T02:50:39.592211Z"
    },
    "id": "NF2wGqQHWJmL",
    "outputId": "5561586d-2bd7-4284-c1d7-5444c12f3bfb",
    "papermill": {
     "duration": 0.060502,
     "end_time": "2021-10-29T03:01:20.692624",
     "exception": false,
     "start_time": "2021-10-29T03:01:20.632122",
     "status": "completed"
    },
    "tags": []
   },
   "outputs": [
    {
     "name": "stdout",
     "output_type": "stream",
     "text": [
      "0.13003666310872591\n"
     ]
    }
   ],
   "source": [
    "regr1 = NormalLR()\n",
    "regr1.fit(X_train, y_train)\n",
    "print(RMSE(y_test, regr1.predict(X_test)))"
   ]
  },
  {
   "cell_type": "markdown",
   "id": "2fc4ab36",
   "metadata": {
    "id": "JK9r-JAQaqbc",
    "papermill": {
     "duration": 0.055347,
     "end_time": "2021-10-29T03:01:20.824207",
     "exception": false,
     "start_time": "2021-10-29T03:01:20.768860",
     "status": "completed"
    },
    "tags": []
   },
   "source": [
    "# Testing real-world data"
   ]
  },
  {
   "cell_type": "markdown",
   "id": "e037416b",
   "metadata": {
    "id": "UKgOG8ikYCZS",
    "papermill": {
     "duration": 0.040406,
     "end_time": "2021-10-29T03:01:20.904968",
     "exception": false,
     "start_time": "2021-10-29T03:01:20.864562",
     "status": "completed"
    },
    "tags": []
   },
   "source": [
    "First thing first we would like to see the data and prepare it for the model. I think we need following steps:\n",
    "- Remove correlated features. It always overfits LinReg model because of the large numbers in matrix\n",
    "- Remove noise and outliers. Of course data has some outliers, and it will be crucial for our model to see good data\n",
    "- Scaling is always good. We want to get to N(0, 1) as close as possible "
   ]
  },
  {
   "cell_type": "markdown",
   "id": "985a6863",
   "metadata": {
    "id": "9gzWDx_NdOT7",
    "papermill": {
     "duration": 0.041152,
     "end_time": "2021-10-29T03:01:20.986425",
     "exception": false,
     "start_time": "2021-10-29T03:01:20.945273",
     "status": "completed"
    },
    "tags": []
   },
   "source": [
    "Reading data is always ugly while it in-cell. We would like to keep notebook clean so let's write simple function"
   ]
  },
  {
   "cell_type": "code",
   "execution_count": 7,
   "id": "27ad0adb",
   "metadata": {
    "execution": {
     "iopub.execute_input": "2021-10-29T03:01:21.074425Z",
     "iopub.status.busy": "2021-10-29T03:01:21.073688Z",
     "iopub.status.idle": "2021-10-29T03:01:21.075788Z",
     "shell.execute_reply": "2021-10-29T03:01:21.076353Z",
     "shell.execute_reply.started": "2021-10-29T02:50:45.803399Z"
    },
    "id": "M71_YDYRapbs",
    "papermill": {
     "duration": 0.049541,
     "end_time": "2021-10-29T03:01:21.076525",
     "exception": false,
     "start_time": "2021-10-29T03:01:21.026984",
     "status": "completed"
    },
    "tags": []
   },
   "outputs": [],
   "source": [
    "def read_data(path):\n",
    "    X = pd.read_csv(path + 'x_boston_train.csv').drop('Id', axis=1)\n",
    "    y = pd.read_csv(path + 'y_boston_train.csv').drop('Id', axis=1).rename(columns={'Expected': 'y'})\n",
    "    return X, y['y']"
   ]
  },
  {
   "cell_type": "code",
   "execution_count": 8,
   "id": "bd27cf2d",
   "metadata": {
    "execution": {
     "iopub.execute_input": "2021-10-29T03:01:21.162470Z",
     "iopub.status.busy": "2021-10-29T03:01:21.161823Z",
     "iopub.status.idle": "2021-10-29T03:01:21.205390Z",
     "shell.execute_reply": "2021-10-29T03:01:21.206021Z",
     "shell.execute_reply.started": "2021-10-29T02:50:46.860060Z"
    },
    "id": "PwuOxb0pap7y",
    "papermill": {
     "duration": 0.088555,
     "end_time": "2021-10-29T03:01:21.206226",
     "exception": false,
     "start_time": "2021-10-29T03:01:21.117671",
     "status": "completed"
    },
    "tags": []
   },
   "outputs": [],
   "source": [
    "X, y = read_data('data/')"
   ]
  },
  {
   "cell_type": "markdown",
   "id": "fdd5bea4",
   "metadata": {
    "id": "jSwdaa1KaqGA",
    "papermill": {
     "duration": 0.041335,
     "end_time": "2021-10-29T03:01:21.290440",
     "exception": false,
     "start_time": "2021-10-29T03:01:21.249105",
     "status": "completed"
    },
    "tags": []
   },
   "source": [
    "## Correlation"
   ]
  },
  {
   "cell_type": "code",
   "execution_count": 9,
   "id": "343bcde6",
   "metadata": {
    "execution": {
     "iopub.execute_input": "2021-10-29T03:01:21.377109Z",
     "iopub.status.busy": "2021-10-29T03:01:21.376394Z",
     "iopub.status.idle": "2021-10-29T03:01:22.033205Z",
     "shell.execute_reply": "2021-10-29T03:01:22.033869Z",
     "shell.execute_reply.started": "2021-10-29T02:50:54.436886Z"
    },
    "id": "xkkjzvi2YDHA",
    "outputId": "dc24099b-de6d-4786-a981-c6cbd5b8afd7",
    "papermill": {
     "duration": 0.701448,
     "end_time": "2021-10-29T03:01:22.034072",
     "exception": false,
     "start_time": "2021-10-29T03:01:21.332624",
     "status": "completed"
    },
    "tags": []
   },
   "outputs": [
    {
     "data": {
      "text/plain": [
       "<AxesSubplot:>"
      ]
     },
     "execution_count": 9,
     "metadata": {},
     "output_type": "execute_result"
    },
    {
     "data": {
      "image/png": "[encoded data removed]",
      "text/plain": [
       "<Figure size 648x648 with 2 Axes>"
      ]
     },
     "metadata": {
      "image/png": {
       "height": 527,
       "width": 521
      }
     },
     "output_type": "display_data"
    }
   ],
   "source": [
    "plt.figure(figsize=(9, 9))\n",
    "sns.heatmap(X.corr(), cmap=\"Greens\")"
   ]
  },
  {
   "cell_type": "markdown",
   "id": "94ed7c23",
   "metadata": {
    "id": "j8qzEza6hR0d",
    "papermill": {
     "duration": 0.045622,
     "end_time": "2021-10-29T03:01:22.127105",
     "exception": false,
     "start_time": "2021-10-29T03:01:22.081483",
     "status": "completed"
    },
    "tags": []
   },
   "source": [
    "nox - tax;\n",
    "tax - rad;\n",
    "nox - indus;\n",
    "indus - age;\n",
    "indus - tax;\n",
    "dis - zn;\n",
    "dis - age;\n",
    "\n",
    "These are the high-correlated features from out dataset. I think we have enough data to feed our model without some of them. Indeed, in more sophisticated analysis I would compute VIF's for each feature and maybe combine some of them, but we are here to implement LR and test it on somewhat ok data.\n"
   ]
  },
  {
   "cell_type": "markdown",
   "id": "cb9d02e4",
   "metadata": {
    "id": "jr53bhVEje_K",
    "papermill": {
     "duration": 0.045609,
     "end_time": "2021-10-29T03:01:22.217017",
     "exception": false,
     "start_time": "2021-10-29T03:01:22.171408",
     "status": "completed"
    },
    "tags": []
   },
   "source": [
    "## Scaling and dealing with outliers"
   ]
  },
  {
   "cell_type": "markdown",
   "id": "0223a5a0",
   "metadata": {
    "id": "z_CC0yAnH2hE",
    "papermill": {
     "duration": 0.045407,
     "end_time": "2021-10-29T03:01:22.308155",
     "exception": false,
     "start_time": "2021-10-29T03:01:22.262748",
     "status": "completed"
    },
    "tags": []
   },
   "source": [
    "### Crime"
   ]
  },
  {
   "cell_type": "code",
   "execution_count": 10,
   "id": "e021350a",
   "metadata": {
    "execution": {
     "iopub.execute_input": "2021-10-29T03:01:22.400165Z",
     "iopub.status.busy": "2021-10-29T03:01:22.399468Z",
     "iopub.status.idle": "2021-10-29T03:01:22.459733Z",
     "shell.execute_reply": "2021-10-29T03:01:22.460275Z",
     "shell.execute_reply.started": "2021-10-29T02:51:09.522912Z"
    },
    "id": "J-u6veQdnVE0",
    "outputId": "2cf17a58-4bc5-4f3a-d372-90db97fbee56",
    "papermill": {
     "duration": 0.107589,
     "end_time": "2021-10-29T03:01:22.460479",
     "exception": false,
     "start_time": "2021-10-29T03:01:22.352890",
     "status": "completed"
    },
    "tags": []
   },
   "outputs": [
    {
     "data": {
      "text/html": [
       "<div>\n",
       "<style scoped>\n",
       "    .dataframe tbody tr th:only-of-type {\n",
       "        vertical-align: middle;\n",
       "    }\n",
       "\n",
       "    .dataframe tbody tr th {\n",
       "        vertical-align: top;\n",
       "    }\n",
       "\n",
       "    .dataframe thead th {\n",
       "        text-align: right;\n",
       "    }\n",
       "</style>\n",
       "<table border=\"1\" class=\"dataframe\">\n",
       "  <thead>\n",
       "    <tr style=\"text-align: right;\">\n",
       "      <th></th>\n",
       "      <th>count</th>\n",
       "      <th>mean</th>\n",
       "      <th>std</th>\n",
       "      <th>min</th>\n",
       "      <th>25%</th>\n",
       "      <th>50%</th>\n",
       "      <th>75%</th>\n",
       "      <th>max</th>\n",
       "    </tr>\n",
       "  </thead>\n",
       "  <tbody>\n",
       "    <tr>\n",
       "      <th>crim</th>\n",
       "      <td>404.0</td>\n",
       "      <td>3.78</td>\n",
       "      <td>8.70</td>\n",
       "      <td>0.01</td>\n",
       "      <td>0.08</td>\n",
       "      <td>0.25</td>\n",
       "      <td>3.84</td>\n",
       "      <td>88.98</td>\n",
       "    </tr>\n",
       "    <tr>\n",
       "      <th>zn</th>\n",
       "      <td>404.0</td>\n",
       "      <td>11.27</td>\n",
       "      <td>23.06</td>\n",
       "      <td>0.00</td>\n",
       "      <td>0.00</td>\n",
       "      <td>0.00</td>\n",
       "      <td>12.50</td>\n",
       "      <td>95.00</td>\n",
       "    </tr>\n",
       "    <tr>\n",
       "      <th>indus</th>\n",
       "      <td>404.0</td>\n",
       "      <td>11.24</td>\n",
       "      <td>6.87</td>\n",
       "      <td>0.46</td>\n",
       "      <td>5.18</td>\n",
       "      <td>9.69</td>\n",
       "      <td>18.10</td>\n",
       "      <td>27.74</td>\n",
       "    </tr>\n",
       "    <tr>\n",
       "      <th>chas</th>\n",
       "      <td>404.0</td>\n",
       "      <td>0.06</td>\n",
       "      <td>0.24</td>\n",
       "      <td>0.00</td>\n",
       "      <td>0.00</td>\n",
       "      <td>0.00</td>\n",
       "      <td>0.00</td>\n",
       "      <td>1.00</td>\n",
       "    </tr>\n",
       "    <tr>\n",
       "      <th>nox</th>\n",
       "      <td>404.0</td>\n",
       "      <td>0.56</td>\n",
       "      <td>0.12</td>\n",
       "      <td>0.38</td>\n",
       "      <td>0.45</td>\n",
       "      <td>0.54</td>\n",
       "      <td>0.62</td>\n",
       "      <td>0.87</td>\n",
       "    </tr>\n",
       "    <tr>\n",
       "      <th>rm</th>\n",
       "      <td>404.0</td>\n",
       "      <td>6.29</td>\n",
       "      <td>0.73</td>\n",
       "      <td>3.56</td>\n",
       "      <td>5.89</td>\n",
       "      <td>6.21</td>\n",
       "      <td>6.63</td>\n",
       "      <td>8.78</td>\n",
       "    </tr>\n",
       "    <tr>\n",
       "      <th>age</th>\n",
       "      <td>404.0</td>\n",
       "      <td>68.87</td>\n",
       "      <td>28.02</td>\n",
       "      <td>2.90</td>\n",
       "      <td>45.32</td>\n",
       "      <td>77.70</td>\n",
       "      <td>94.02</td>\n",
       "      <td>100.00</td>\n",
       "    </tr>\n",
       "    <tr>\n",
       "      <th>dis</th>\n",
       "      <td>404.0</td>\n",
       "      <td>3.73</td>\n",
       "      <td>2.08</td>\n",
       "      <td>1.14</td>\n",
       "      <td>2.08</td>\n",
       "      <td>3.14</td>\n",
       "      <td>5.12</td>\n",
       "      <td>12.13</td>\n",
       "    </tr>\n",
       "    <tr>\n",
       "      <th>rad</th>\n",
       "      <td>404.0</td>\n",
       "      <td>9.74</td>\n",
       "      <td>8.79</td>\n",
       "      <td>1.00</td>\n",
       "      <td>4.00</td>\n",
       "      <td>5.00</td>\n",
       "      <td>24.00</td>\n",
       "      <td>24.00</td>\n",
       "    </tr>\n",
       "    <tr>\n",
       "      <th>tax</th>\n",
       "      <td>404.0</td>\n",
       "      <td>410.88</td>\n",
       "      <td>169.45</td>\n",
       "      <td>187.00</td>\n",
       "      <td>279.00</td>\n",
       "      <td>336.00</td>\n",
       "      <td>666.00</td>\n",
       "      <td>711.00</td>\n",
       "    </tr>\n",
       "    <tr>\n",
       "      <th>ptratio</th>\n",
       "      <td>404.0</td>\n",
       "      <td>18.39</td>\n",
       "      <td>2.16</td>\n",
       "      <td>12.60</td>\n",
       "      <td>16.98</td>\n",
       "      <td>19.00</td>\n",
       "      <td>20.20</td>\n",
       "      <td>22.00</td>\n",
       "    </tr>\n",
       "    <tr>\n",
       "      <th>b</th>\n",
       "      <td>404.0</td>\n",
       "      <td>357.85</td>\n",
       "      <td>88.55</td>\n",
       "      <td>0.32</td>\n",
       "      <td>375.08</td>\n",
       "      <td>391.40</td>\n",
       "      <td>396.90</td>\n",
       "      <td>396.90</td>\n",
       "    </tr>\n",
       "    <tr>\n",
       "      <th>lstat</th>\n",
       "      <td>404.0</td>\n",
       "      <td>12.62</td>\n",
       "      <td>7.26</td>\n",
       "      <td>1.73</td>\n",
       "      <td>6.91</td>\n",
       "      <td>11.17</td>\n",
       "      <td>16.98</td>\n",
       "      <td>37.97</td>\n",
       "    </tr>\n",
       "    <tr>\n",
       "      <th>y</th>\n",
       "      <td>404.0</td>\n",
       "      <td>22743.81</td>\n",
       "      <td>9311.11</td>\n",
       "      <td>5000.00</td>\n",
       "      <td>17150.00</td>\n",
       "      <td>21400.00</td>\n",
       "      <td>25075.00</td>\n",
       "      <td>50000.00</td>\n",
       "    </tr>\n",
       "  </tbody>\n",
       "</table>\n",
       "</div>"
      ],
      "text/plain": [
       "         count      mean      std      min       25%       50%       75%  \\\n",
       "crim     404.0      3.78     8.70     0.01      0.08      0.25      3.84   \n",
       "zn       404.0     11.27    23.06     0.00      0.00      0.00     12.50   \n",
       "indus    404.0     11.24     6.87     0.46      5.18      9.69     18.10   \n",
       "chas     404.0      0.06     0.24     0.00      0.00      0.00      0.00   \n",
       "nox      404.0      0.56     0.12     0.38      0.45      0.54      0.62   \n",
       "rm       404.0      6.29     0.73     3.56      5.89      6.21      6.63   \n",
       "age      404.0     68.87    28.02     2.90     45.32     77.70     94.02   \n",
       "dis      404.0      3.73     2.08     1.14      2.08      3.14      5.12   \n",
       "rad      404.0      9.74     8.79     1.00      4.00      5.00     24.00   \n",
       "tax      404.0    410.88   169.45   187.00    279.00    336.00    666.00   \n",
       "ptratio  404.0     18.39     2.16    12.60     16.98     19.00     20.20   \n",
       "b        404.0    357.85    88.55     0.32    375.08    391.40    396.90   \n",
       "lstat    404.0     12.62     7.26     1.73      6.91     11.17     16.98   \n",
       "y        404.0  22743.81  9311.11  5000.00  17150.00  21400.00  25075.00   \n",
       "\n",
       "              max  \n",
       "crim        88.98  \n",
       "zn          95.00  \n",
       "indus       27.74  \n",
       "chas         1.00  \n",
       "nox          0.87  \n",
       "rm           8.78  \n",
       "age        100.00  \n",
       "dis         12.13  \n",
       "rad         24.00  \n",
       "tax        711.00  \n",
       "ptratio     22.00  \n",
       "b          396.90  \n",
       "lstat       37.97  \n",
       "y        50000.00  "
      ]
     },
     "execution_count": 10,
     "metadata": {},
     "output_type": "execute_result"
    }
   ],
   "source": [
    "pd.concat([X, y], axis=1).describe().round(2).T"
   ]
  },
  {
   "cell_type": "code",
   "execution_count": 11,
   "id": "fa5b7db5",
   "metadata": {
    "execution": {
     "iopub.execute_input": "2021-10-29T03:01:22.563798Z",
     "iopub.status.busy": "2021-10-29T03:01:22.563094Z",
     "iopub.status.idle": "2021-10-29T03:01:23.186322Z",
     "shell.execute_reply": "2021-10-29T03:01:23.186791Z",
     "shell.execute_reply.started": "2021-10-29T02:51:22.741958Z"
    },
    "id": "A0BZAT8O-724",
    "outputId": "6d31ea1e-0dff-4f21-eb5a-28758238299f",
    "papermill": {
     "duration": 0.68239,
     "end_time": "2021-10-29T03:01:23.187017",
     "exception": false,
     "start_time": "2021-10-29T03:01:22.504627",
     "status": "completed"
    },
    "tags": []
   },
   "outputs": [
    {
     "data": {
      "text/plain": [
       "<Figure size 720x720 with 0 Axes>"
      ]
     },
     "metadata": {},
     "output_type": "display_data"
    },
    {
     "data": {
      "image/png": "[encoded data removed]",
      "text/plain": [
       "<Figure size 792x504 with 1 Axes>"
      ]
     },
     "metadata": {
      "image/png": {
       "height": 466,
       "width": 691
      }
     },
     "output_type": "display_data"
    }
   ],
   "source": [
    "sns.set_palette(sns.color_palette(\"magma\"))\n",
    "\n",
    "plt.figure(figsize=(10,10))\n",
    "g = sns.displot(data=y,log_scale=0)\n",
    "g.fig.set_figwidth(11)\n",
    "g.fig.set_figheight(7)"
   ]
  },
  {
   "cell_type": "markdown",
   "id": "4ca1167a",
   "metadata": {
    "id": "DuKtIjrqo2UC",
    "papermill": {
     "duration": 0.0446,
     "end_time": "2021-10-29T03:01:23.276695",
     "exception": false,
     "start_time": "2021-10-29T03:01:23.232095",
     "status": "completed"
    },
    "tags": []
   },
   "source": [
    "## Process Data"
   ]
  },
  {
   "cell_type": "markdown",
   "id": "f7c63ab3",
   "metadata": {
    "id": "uBdkqllg9EQ6",
    "papermill": {
     "duration": 0.045845,
     "end_time": "2021-10-29T03:01:23.367487",
     "exception": false,
     "start_time": "2021-10-29T03:01:23.321642",
     "status": "completed"
    },
    "tags": []
   },
   "source": [
    "## Transform some numeric features into categorical and then One-Hot\n",
    "Do not forget to drop one column to avoid multiple correlation!"
   ]
  },
  {
   "cell_type": "markdown",
   "id": "787803c2",
   "metadata": {
    "id": "oU_k9i8I9bzx",
    "papermill": {
     "duration": 0.044972,
     "end_time": "2021-10-29T03:01:23.457576",
     "exception": false,
     "start_time": "2021-10-29T03:01:23.412604",
     "status": "completed"
    },
    "tags": []
   },
   "source": [
    "### Crimes feature"
   ]
  },
  {
   "cell_type": "code",
   "execution_count": 12,
   "id": "1deff0e5",
   "metadata": {
    "execution": {
     "iopub.execute_input": "2021-10-29T03:01:23.552127Z",
     "iopub.status.busy": "2021-10-29T03:01:23.551285Z",
     "iopub.status.idle": "2021-10-29T03:01:24.271092Z",
     "shell.execute_reply": "2021-10-29T03:01:24.271598Z",
     "shell.execute_reply.started": "2021-10-29T02:51:28.141494Z"
    },
    "id": "YsYQNJ_P9iMd",
    "outputId": "5b7138b6-92cf-4d46-81c9-a6e5857f8c3f",
    "papermill": {
     "duration": 0.768904,
     "end_time": "2021-10-29T03:01:24.271788",
     "exception": false,
     "start_time": "2021-10-29T03:01:23.502884",
     "status": "completed"
    },
    "tags": []
   },
   "outputs": [
    {
     "data": {
      "text/plain": [
       "<Figure size 720x720 with 0 Axes>"
      ]
     },
     "metadata": {},
     "output_type": "display_data"
    },
    {
     "data": {
      "image/png": "[encoded data removed]",
      "text/plain": [
       "<Figure size 792x504 with 1 Axes>"
      ]
     },
     "metadata": {
      "image/png": {
       "height": 466,
       "width": 683
      }
     },
     "output_type": "display_data"
    }
   ],
   "source": [
    "sns.set_palette(sns.color_palette(\"Set2\"))\n",
    "\n",
    "plt.figure(figsize=(10,10))\n",
    "g = sns.displot(data=X.loc[X['crim'] < 30], x='crim',log_scale=0)\n",
    "g.fig.set_figwidth(11)\n",
    "g.fig.set_figheight(7)"
   ]
  },
  {
   "cell_type": "markdown",
   "id": "e526a2e2",
   "metadata": {
    "papermill": {
     "duration": 0.048911,
     "end_time": "2021-10-29T03:01:24.367529",
     "exception": false,
     "start_time": "2021-10-29T03:01:24.318618",
     "status": "completed"
    },
    "tags": []
   },
   "source": [
    "Looks like our data could be transformed into bins, then we can make it categorical. Categorical -> numeric."
   ]
  },
  {
   "cell_type": "code",
   "execution_count": 13,
   "id": "041fdef4",
   "metadata": {
    "execution": {
     "iopub.execute_input": "2021-10-29T03:01:24.467299Z",
     "iopub.status.busy": "2021-10-29T03:01:24.466568Z",
     "iopub.status.idle": "2021-10-29T03:01:24.474615Z",
     "shell.execute_reply": "2021-10-29T03:01:24.475193Z",
     "shell.execute_reply.started": "2021-10-29T02:51:46.121799Z"
    },
    "id": "79QvI_At9a_r",
    "papermill": {
     "duration": 0.061042,
     "end_time": "2021-10-29T03:01:24.475379",
     "exception": false,
     "start_time": "2021-10-29T03:01:24.414337",
     "status": "completed"
    },
    "tags": []
   },
   "outputs": [],
   "source": [
    "crim_dict = {}\n",
    "X['crim'] = np.floor(X['crim'])\n",
    "\n",
    "for v in X['crim'].unique():\n",
    "    if v > 2:\n",
    "        crim_dict[v] = 1\n",
    "    else:\n",
    "        crim_dict[v] = 0\n",
    "\n",
    "X['crim'] = X['crim'].map(crim_dict)"
   ]
  },
  {
   "cell_type": "markdown",
   "id": "a8a27f4d",
   "metadata": {
    "id": "lvwPI2-IJM4A",
    "papermill": {
     "duration": 0.048782,
     "end_time": "2021-10-29T03:01:24.572895",
     "exception": false,
     "start_time": "2021-10-29T03:01:24.524113",
     "status": "completed"
    },
    "tags": []
   },
   "source": [
    "### Rad"
   ]
  },
  {
   "cell_type": "code",
   "execution_count": 14,
   "id": "38a6720e",
   "metadata": {
    "execution": {
     "iopub.execute_input": "2021-10-29T03:01:24.670123Z",
     "iopub.status.busy": "2021-10-29T03:01:24.669413Z",
     "iopub.status.idle": "2021-10-29T03:01:25.283734Z",
     "shell.execute_reply": "2021-10-29T03:01:25.282944Z",
     "shell.execute_reply.started": "2021-10-29T02:51:49.774778Z"
    },
    "id": "bqJT3Mj6JO0c",
    "outputId": "97662dec-48cd-402f-8cd8-0a719621c126",
    "papermill": {
     "duration": 0.664441,
     "end_time": "2021-10-29T03:01:25.283922",
     "exception": false,
     "start_time": "2021-10-29T03:01:24.619481",
     "status": "completed"
    },
    "tags": []
   },
   "outputs": [
    {
     "data": {
      "text/plain": [
       "<Figure size 720x720 with 0 Axes>"
      ]
     },
     "metadata": {},
     "output_type": "display_data"
    },
    {
     "data": {
      "image/png": "[encoded data removed]",
      "text/plain": [
       "<Figure size 792x504 with 1 Axes>"
      ]
     },
     "metadata": {
      "image/png": {
       "height": 466,
       "width": 683
      }
     },
     "output_type": "display_data"
    }
   ],
   "source": [
    "sns.set_palette(sns.color_palette(\"rocket_r\"))\n",
    "\n",
    "plt.figure(figsize=(10,10))\n",
    "g = sns.displot(data=X, x='rad',log_scale=0)\n",
    "g.fig.set_figwidth(11)\n",
    "g.fig.set_figheight(7)"
   ]
  },
  {
   "cell_type": "code",
   "execution_count": 15,
   "id": "0d9d9dae",
   "metadata": {
    "execution": {
     "iopub.execute_input": "2021-10-29T03:01:25.393898Z",
     "iopub.status.busy": "2021-10-29T03:01:25.393158Z",
     "iopub.status.idle": "2021-10-29T03:01:25.395063Z",
     "shell.execute_reply": "2021-10-29T03:01:25.395589Z",
     "shell.execute_reply.started": "2021-10-29T02:51:56.594427Z"
    },
    "id": "M8780aS3JcTi",
    "papermill": {
     "duration": 0.061021,
     "end_time": "2021-10-29T03:01:25.395788",
     "exception": false,
     "start_time": "2021-10-29T03:01:25.334767",
     "status": "completed"
    },
    "tags": []
   },
   "outputs": [],
   "source": [
    "X = pd.concat([X, pd.get_dummies(X['rad'], prefix='rad', drop_first=True)], axis=1)"
   ]
  },
  {
   "cell_type": "markdown",
   "id": "962278ce",
   "metadata": {
    "id": "ZM3CR_uZLArg",
    "papermill": {
     "duration": 0.05069,
     "end_time": "2021-10-29T03:01:25.497890",
     "exception": false,
     "start_time": "2021-10-29T03:01:25.447200",
     "status": "completed"
    },
    "tags": []
   },
   "source": [
    "### Rooms"
   ]
  },
  {
   "cell_type": "markdown",
   "id": "f7e881ed",
   "metadata": {
    "papermill": {
     "duration": 0.048648,
     "end_time": "2021-10-29T03:01:25.597025",
     "exception": false,
     "start_time": "2021-10-29T03:01:25.548377",
     "status": "completed"
    },
    "tags": []
   },
   "source": [
    "Rooms is the key factor for the price of the house. So I think it is wise to round the floar value and one-hot encode them. At least, on validation it gave me nice score."
   ]
  },
  {
   "cell_type": "code",
   "execution_count": 16,
   "id": "e73436ab",
   "metadata": {
    "execution": {
     "iopub.execute_input": "2021-10-29T03:01:25.702083Z",
     "iopub.status.busy": "2021-10-29T03:01:25.701060Z",
     "iopub.status.idle": "2021-10-29T03:01:25.714637Z",
     "shell.execute_reply": "2021-10-29T03:01:25.713946Z",
     "shell.execute_reply.started": "2021-10-29T02:51:59.961793Z"
    },
    "id": "0pkEv04eLDqC",
    "papermill": {
     "duration": 0.068969,
     "end_time": "2021-10-29T03:01:25.714844",
     "exception": false,
     "start_time": "2021-10-29T03:01:25.645875",
     "status": "completed"
    },
    "tags": []
   },
   "outputs": [],
   "source": [
    "X['rm'] = np.round(X['rm']).astype('int')\n",
    "\n",
    "X = pd.concat([X, pd.get_dummies(X['rm'], prefix='rm', drop_first=True)], axis=1)"
   ]
  },
  {
   "cell_type": "markdown",
   "id": "0b93cc9d",
   "metadata": {
    "id": "9X8gfBBbNn5J",
    "papermill": {
     "duration": 0.047878,
     "end_time": "2021-10-29T03:01:25.811407",
     "exception": false,
     "start_time": "2021-10-29T03:01:25.763529",
     "status": "completed"
    },
    "tags": []
   },
   "source": [
    "### Zn"
   ]
  },
  {
   "cell_type": "code",
   "execution_count": 17,
   "id": "2a028c13",
   "metadata": {
    "execution": {
     "iopub.execute_input": "2021-10-29T03:01:25.911629Z",
     "iopub.status.busy": "2021-10-29T03:01:25.910625Z",
     "iopub.status.idle": "2021-10-29T03:01:25.918165Z",
     "shell.execute_reply": "2021-10-29T03:01:25.918646Z",
     "shell.execute_reply.started": "2021-10-29T02:52:22.879971Z"
    },
    "id": "_Es-PkigNqJp",
    "papermill": {
     "duration": 0.059844,
     "end_time": "2021-10-29T03:01:25.918846",
     "exception": false,
     "start_time": "2021-10-29T03:01:25.859002",
     "status": "completed"
    },
    "tags": []
   },
   "outputs": [],
   "source": [
    "zn_dict = {}\n",
    "X['zn'] = np.floor(X['zn'])\n",
    "\n",
    "for v in X['zn'].unique():\n",
    "    if v > 0:\n",
    "        zn_dict[v] = 0\n",
    "    else:\n",
    "        zn_dict[v] = 1\n",
    "\n",
    "X['zn'] = X['zn'].map(zn_dict)"
   ]
  },
  {
   "cell_type": "markdown",
   "id": "e31b671b",
   "metadata": {
    "id": "0gI_p6HGjD-L",
    "papermill": {
     "duration": 0.050684,
     "end_time": "2021-10-29T03:01:26.017940",
     "exception": false,
     "start_time": "2021-10-29T03:01:25.967256",
     "status": "completed"
    },
    "tags": []
   },
   "source": [
    "### Generating degrees of regressors"
   ]
  },
  {
   "cell_type": "code",
   "execution_count": 18,
   "id": "2abefef9",
   "metadata": {
    "execution": {
     "iopub.execute_input": "2021-10-29T03:01:26.134080Z",
     "iopub.status.busy": "2021-10-29T03:01:26.133089Z",
     "iopub.status.idle": "2021-10-29T03:01:26.142936Z",
     "shell.execute_reply": "2021-10-29T03:01:26.143691Z",
     "shell.execute_reply.started": "2021-10-29T02:52:32.493051Z"
    },
    "id": "jM1IVPZkjIP7",
    "papermill": {
     "duration": 0.069563,
     "end_time": "2021-10-29T03:01:26.143980",
     "exception": false,
     "start_time": "2021-10-29T03:01:26.074417",
     "status": "completed"
    },
    "tags": []
   },
   "outputs": [],
   "source": [
    "feats_for_degree = ['b', 'lstat', 'dis']\n",
    "\n",
    "for col in feats_for_degree:\n",
    "    power2 = 2\n",
    "    X[col + '^' + str(power2)] = X[col] **2\n",
    "    power3 = 3\n",
    "    X[col + '^' + str(power3)] = X[col] **3 "
   ]
  },
  {
   "cell_type": "markdown",
   "id": "85afffd7",
   "metadata": {
    "id": "EFrMexg4P7t2",
    "papermill": {
     "duration": 0.058721,
     "end_time": "2021-10-29T03:01:26.278613",
     "exception": false,
     "start_time": "2021-10-29T03:01:26.219892",
     "status": "completed"
    },
    "tags": []
   },
   "source": [
    "## Cut values and split"
   ]
  },
  {
   "cell_type": "code",
   "execution_count": 19,
   "id": "9d7158bd",
   "metadata": {
    "execution": {
     "iopub.execute_input": "2021-10-29T03:01:26.396680Z",
     "iopub.status.busy": "2021-10-29T03:01:26.395749Z",
     "iopub.status.idle": "2021-10-29T03:01:26.399084Z",
     "shell.execute_reply": "2021-10-29T03:01:26.400151Z",
     "shell.execute_reply.started": "2021-10-29T02:53:22.315451Z"
    },
    "id": "nQkDjXAbQD4H",
    "papermill": {
     "duration": 0.070454,
     "end_time": "2021-10-29T03:01:26.400438",
     "exception": false,
     "start_time": "2021-10-29T03:01:26.329984",
     "status": "completed"
    },
    "tags": []
   },
   "outputs": [],
   "source": [
    "def process_data(X, y, rem_feats, cut_vals, seed):\n",
    "    df = pd.concat([X, y], axis=1)\n",
    "    if len(cut_vals):\n",
    "        for col in cut_vals:\n",
    "            df = df.loc[df[col] < cut_vals[col]]\n",
    "\n",
    "    X = df.drop('y', axis=1)\n",
    "    y = df['y']\n",
    "    if len(rem_feats):\n",
    "        X.drop(rem_feats, axis=1, inplace=True)\n",
    "    \n",
    "\n",
    "    X_train, X_test, y_train, y_test = train_test_split(X, y, train_size=0.7, shuffle=False, random_state=seed)\n",
    "    \n",
    "    return X_train, X_test, y_train, y_test"
   ]
  },
  {
   "cell_type": "markdown",
   "id": "40764cbd",
   "metadata": {
    "papermill": {
     "duration": 0.049694,
     "end_time": "2021-10-29T03:01:26.510725",
     "exception": false,
     "start_time": "2021-10-29T03:01:26.461031",
     "status": "completed"
    },
    "tags": []
   },
   "source": [
    "As we can see on the graph above, we have some houses that costs like 50.000, so we can skip them and validate without them to see more stable results. But for the final fit we will incliude them."
   ]
  },
  {
   "cell_type": "code",
   "execution_count": 20,
   "id": "97fc2e0a",
   "metadata": {
    "execution": {
     "iopub.execute_input": "2021-10-29T03:01:26.614663Z",
     "iopub.status.busy": "2021-10-29T03:01:26.613587Z",
     "iopub.status.idle": "2021-10-29T03:01:26.624417Z",
     "shell.execute_reply": "2021-10-29T03:01:26.625012Z",
     "shell.execute_reply.started": "2021-10-29T02:56:35.617463Z"
    },
    "id": "Adsx61xtQPTe",
    "papermill": {
     "duration": 0.064973,
     "end_time": "2021-10-29T03:01:26.625238",
     "exception": false,
     "start_time": "2021-10-29T03:01:26.560265",
     "status": "completed"
    },
    "tags": []
   },
   "outputs": [],
   "source": [
    "l = ['rm', 'rad', 'rm_5', 'rm_9']\n",
    "# , 'crim', 'rm_8', 'rm_7', 'rm_6', 'rad_8']\n",
    "X_train, X_test, y_train, y_test = process_data(X, y, l, {'y': 40000}, seed=92)"
   ]
  },
  {
   "cell_type": "code",
   "execution_count": 21,
   "id": "f7ef807b",
   "metadata": {
    "execution": {
     "iopub.execute_input": "2021-10-29T03:01:26.728898Z",
     "iopub.status.busy": "2021-10-29T03:01:26.727919Z",
     "iopub.status.idle": "2021-10-29T03:01:27.848080Z",
     "shell.execute_reply": "2021-10-29T03:01:27.848945Z",
     "shell.execute_reply.started": "2021-10-29T02:53:31.758138Z"
    },
    "id": "RQdDFww7QQIR",
    "outputId": "b30eb35f-08b8-4bcb-e101-1943475360ad",
    "papermill": {
     "duration": 1.174184,
     "end_time": "2021-10-29T03:01:27.849147",
     "exception": false,
     "start_time": "2021-10-29T03:01:26.674963",
     "status": "completed"
    },
    "tags": []
   },
   "outputs": [
    {
     "data": {
      "text/plain": [
       "<AxesSubplot:>"
      ]
     },
     "execution_count": 21,
     "metadata": {},
     "output_type": "execute_result"
    },
    {
     "data": {
      "image/png": "[encoded data removed]",
      "text/plain": [
       "<Figure size 792x792 with 2 Axes>"
      ]
     },
     "metadata": {
      "image/png": {
       "height": 666,
       "width": 652
      }
     },
     "output_type": "display_data"
    }
   ],
   "source": [
    "plt.figure(figsize=(11, 11))\n",
    "sns.heatmap(pd.concat([X_train, y_train], axis=1).corr(), cmap=\"icefire\")"
   ]
  },
  {
   "cell_type": "markdown",
   "id": "00f8866a",
   "metadata": {
    "id": "J3T7Fz3a-8Rb",
    "papermill": {
     "duration": 0.051719,
     "end_time": "2021-10-29T03:01:27.952763",
     "exception": false,
     "start_time": "2021-10-29T03:01:27.901044",
     "status": "completed"
    },
    "tags": []
   },
   "source": [
    "## Fitting simple LR"
   ]
  },
  {
   "cell_type": "code",
   "execution_count": 22,
   "id": "e966673b",
   "metadata": {
    "execution": {
     "iopub.execute_input": "2021-10-29T03:01:28.062399Z",
     "iopub.status.busy": "2021-10-29T03:01:28.059187Z",
     "iopub.status.idle": "2021-10-29T03:01:28.077194Z",
     "shell.execute_reply": "2021-10-29T03:01:28.078766Z",
     "shell.execute_reply.started": "2021-10-29T02:56:47.662999Z"
    },
    "id": "gbIDm35k-8XY",
    "outputId": "60d1d5ba-7349-42c1-8b35-89d58b282878",
    "papermill": {
     "duration": 0.07495,
     "end_time": "2021-10-29T03:01:28.079162",
     "exception": false,
     "start_time": "2021-10-29T03:01:28.004212",
     "status": "completed"
    },
    "tags": []
   },
   "outputs": [
    {
     "name": "stdout",
     "output_type": "stream",
     "text": [
      "RMSE score for the default LinReg is: 3832.56\n"
     ]
    }
   ],
   "source": [
    "simple_reg = NormalLR()\n",
    "simple_reg.fit(X_train, y_train)\n",
    "\n",
    "# validate results\n",
    "res = RMSE(y_test, simple_reg.predict(X_test))\n",
    "print(f'RMSE score for the default LinReg is: {res:.2f}')"
   ]
  },
  {
   "cell_type": "markdown",
   "id": "359f4847",
   "metadata": {
    "id": "5_7JjyjApI1j",
    "papermill": {
     "duration": 0.055677,
     "end_time": "2021-10-29T03:01:28.232404",
     "exception": false,
     "start_time": "2021-10-29T03:01:28.176727",
     "status": "completed"
    },
    "tags": []
   },
   "source": [
    "## Testing regularization"
   ]
  },
  {
   "cell_type": "markdown",
   "id": "4634503b",
   "metadata": {
    "papermill": {
     "duration": 0.05156,
     "end_time": "2021-10-29T03:01:28.335717",
     "exception": false,
     "start_time": "2021-10-29T03:01:28.284157",
     "status": "completed"
    },
    "tags": []
   },
   "source": [
    "Let's define some regularization coefficients and distinguish what is the best hyper-parameter for LR. We can build nice plot for this."
   ]
  },
  {
   "cell_type": "code",
   "execution_count": 23,
   "id": "ffae5d0c",
   "metadata": {
    "execution": {
     "iopub.execute_input": "2021-10-29T03:01:28.454025Z",
     "iopub.status.busy": "2021-10-29T03:01:28.453302Z",
     "iopub.status.idle": "2021-10-29T03:01:29.092926Z",
     "shell.execute_reply": "2021-10-29T03:01:29.094435Z",
     "shell.execute_reply.started": "2021-10-29T02:57:11.664812Z"
    },
    "id": "5fdwhI8ZpI--",
    "papermill": {
     "duration": 0.701844,
     "end_time": "2021-10-29T03:01:29.094736",
     "exception": false,
     "start_time": "2021-10-29T03:01:28.392892",
     "status": "completed"
    },
    "tags": []
   },
   "outputs": [
    {
     "name": "stdout",
     "output_type": "stream",
     "text": [
      "CPU times: user 1.21 s, sys: 1.11 s, total: 2.32 s\n",
      "Wall time: 634 ms\n"
     ]
    }
   ],
   "source": [
    "%%time\n",
    "rmse_arr = []\n",
    "coef_ref_arr = [(0.17 + i/100) for i in range(100)]\n",
    "\n",
    "for c in coef_ref_arr:\n",
    "    reg = NormalLR(reg_coef=c)\n",
    "    reg.fit(X_train, y_train)\n",
    "    curr_res = RMSE(y_test, reg.predict(X_test))\n",
    "    rmse_arr.append(curr_res)\n",
    " "
   ]
  },
  {
   "cell_type": "code",
   "execution_count": 24,
   "id": "bbb0ca1b",
   "metadata": {
    "execution": {
     "iopub.execute_input": "2021-10-29T03:01:29.255689Z",
     "iopub.status.busy": "2021-10-29T03:01:29.255025Z",
     "iopub.status.idle": "2021-10-29T03:01:29.730016Z",
     "shell.execute_reply": "2021-10-29T03:01:29.728731Z",
     "shell.execute_reply.started": "2021-10-29T02:57:16.644470Z"
    },
    "id": "7w4PxR_MpJI1",
    "outputId": "e8110bf9-5c7e-4558-bc25-58317526c198",
    "papermill": {
     "duration": 0.536078,
     "end_time": "2021-10-29T03:01:29.730203",
     "exception": false,
     "start_time": "2021-10-29T03:01:29.194125",
     "status": "completed"
    },
    "tags": []
   },
   "outputs": [
    {
     "data": {
      "image/png": "[encoded data removed]",
      "text/plain": [
       "<Figure size 792x504 with 1 Axes>"
      ]
     },
     "metadata": {
      "image/png": {
       "height": 466,
       "width": 673
      }
     },
     "output_type": "display_data"
    },
    {
     "data": {
      "text/plain": [
       "<Figure size 720x720 with 0 Axes>"
      ]
     },
     "metadata": {},
     "output_type": "display_data"
    }
   ],
   "source": [
    "g = sns.relplot(x=coef_ref_arr, y=rmse_arr)\n",
    "\n",
    "plt.figure(figsize=(10,10))\n",
    "g.fig.set_figwidth(11)\n",
    "g.fig.set_figheight(7)"
   ]
  },
  {
   "cell_type": "code",
   "execution_count": 25,
   "id": "d8611b1c",
   "metadata": {
    "execution": {
     "iopub.execute_input": "2021-10-29T03:01:29.848070Z",
     "iopub.status.busy": "2021-10-29T03:01:29.847325Z",
     "iopub.status.idle": "2021-10-29T03:01:29.851593Z",
     "shell.execute_reply": "2021-10-29T03:01:29.850910Z",
     "shell.execute_reply.started": "2021-10-29T02:58:12.654777Z"
    },
    "id": "DyAb1nBfpJSN",
    "outputId": "73adb5a1-cfa6-4c4b-c689-9c3905e85aa7",
    "papermill": {
     "duration": 0.065168,
     "end_time": "2021-10-29T03:01:29.851746",
     "exception": false,
     "start_time": "2021-10-29T03:01:29.786578",
     "status": "completed"
    },
    "tags": []
   },
   "outputs": [
    {
     "name": "stdout",
     "output_type": "stream",
     "text": [
      "Best score on validation is: 3807.4776600200858\n",
      "Best regularization coef is: 0.23\n"
     ]
    }
   ],
   "source": [
    "print(f'Best score on validation is: {min(rmse_arr)}')\n",
    "print(f'Best regularization coef is: {coef_ref_arr[rmse_arr.index(min(rmse_arr))]}')"
   ]
  },
  {
   "cell_type": "markdown",
   "id": "809b14a9",
   "metadata": {
    "id": "MhHsNSzQVfeo",
    "papermill": {
     "duration": 0.053936,
     "end_time": "2021-10-29T03:01:29.960718",
     "exception": false,
     "start_time": "2021-10-29T03:01:29.906782",
     "status": "completed"
    },
    "tags": []
   },
   "source": [
    "## Best Model Evaluating"
   ]
  },
  {
   "cell_type": "code",
   "execution_count": 26,
   "id": "48072be5",
   "metadata": {
    "execution": {
     "iopub.execute_input": "2021-10-29T03:01:30.076029Z",
     "iopub.status.busy": "2021-10-29T03:01:30.074979Z",
     "iopub.status.idle": "2021-10-29T03:01:30.077839Z",
     "shell.execute_reply": "2021-10-29T03:01:30.077160Z",
     "shell.execute_reply.started": "2021-10-29T02:58:20.909436Z"
    },
    "id": "4XtUdBCHvsaB",
    "papermill": {
     "duration": 0.06298,
     "end_time": "2021-10-29T03:01:30.077982",
     "exception": false,
     "start_time": "2021-10-29T03:01:30.015002",
     "status": "completed"
    },
    "tags": []
   },
   "outputs": [],
   "source": [
    "mask = y < 4 * (10 ** 7)\n",
    "\n",
    "best_reg_model = NormalLR(reg_coef=0.23)"
   ]
  },
  {
   "cell_type": "markdown",
   "id": "8654bdb1",
   "metadata": {
    "papermill": {
     "duration": 0.054338,
     "end_time": "2021-10-29T03:01:30.186969",
     "exception": false,
     "start_time": "2021-10-29T03:01:30.132631",
     "status": "completed"
    },
    "tags": []
   },
   "source": [
    "We found the best paramet, so now we can fit final model for the submission."
   ]
  },
  {
   "cell_type": "code",
   "execution_count": 27,
   "id": "91d20d4b",
   "metadata": {
    "execution": {
     "iopub.execute_input": "2021-10-29T03:01:30.304934Z",
     "iopub.status.busy": "2021-10-29T03:01:30.302326Z",
     "iopub.status.idle": "2021-10-29T03:01:30.318484Z",
     "shell.execute_reply": "2021-10-29T03:01:30.319536Z",
     "shell.execute_reply.started": "2021-10-29T02:58:56.302515Z"
    },
    "id": "BvTFXU_RwJYf",
    "papermill": {
     "duration": 0.078428,
     "end_time": "2021-10-29T03:01:30.319824",
     "exception": false,
     "start_time": "2021-10-29T03:01:30.241396",
     "status": "completed"
    },
    "tags": []
   },
   "outputs": [
    {
     "name": "stdout",
     "output_type": "stream",
     "text": [
      "CPU times: user 14.4 ms, sys: 14.8 ms, total: 29.2 ms\n",
      "Wall time: 11.6 ms\n"
     ]
    }
   ],
   "source": [
    "%%time\n",
    "best_reg_model.fit(X.loc[mask].drop(['rad', 'rm', 'rm_9', 'rm_5'], axis=1), y[mask])"
   ]
  },
  {
   "cell_type": "markdown",
   "id": "0800d292",
   "metadata": {
    "papermill": {
     "duration": 0.05844,
     "end_time": "2021-10-29T03:01:30.482311",
     "exception": false,
     "start_time": "2021-10-29T03:01:30.423871",
     "status": "completed"
    },
    "tags": []
   },
   "source": [
    "Matrices multiplication is so fast!"
   ]
  },
  {
   "cell_type": "markdown",
   "id": "7fa19ed2",
   "metadata": {
    "id": "uBJOpDS9wVtA",
    "papermill": {
     "duration": 0.054489,
     "end_time": "2021-10-29T03:01:30.592077",
     "exception": false,
     "start_time": "2021-10-29T03:01:30.537588",
     "status": "completed"
    },
    "tags": []
   },
   "source": [
    "# Submit on Kaggle"
   ]
  },
  {
   "cell_type": "markdown",
   "id": "c267f820",
   "metadata": {
    "id": "Nvsx-HUIwY6B",
    "papermill": {
     "duration": 0.054127,
     "end_time": "2021-10-29T03:01:30.701033",
     "exception": false,
     "start_time": "2021-10-29T03:01:30.646906",
     "status": "completed"
    },
    "tags": []
   },
   "source": [
    "Process test data"
   ]
  },
  {
   "cell_type": "code",
   "execution_count": 28,
   "id": "8ce117ca",
   "metadata": {
    "execution": {
     "iopub.execute_input": "2021-10-29T03:01:30.819508Z",
     "iopub.status.busy": "2021-10-29T03:01:30.818795Z",
     "iopub.status.idle": "2021-10-29T03:01:30.825512Z",
     "shell.execute_reply": "2021-10-29T03:01:30.826030Z",
     "shell.execute_reply.started": "2021-10-29T03:00:16.351954Z"
    },
    "id": "It5dxJYcwb5Y",
    "papermill": {
     "duration": 0.070596,
     "end_time": "2021-10-29T03:01:30.826200",
     "exception": false,
     "start_time": "2021-10-29T03:01:30.755604",
     "status": "completed"
    },
    "tags": [],
    "pycharm": {
     "name": "#%%\n"
    }
   },
   "outputs": [],
   "source": [
    "def feat_engineering(X):\n",
    "    # crim\n",
    "    crim_dict = {}\n",
    "    X['crim'] = np.floor(X['crim'])\n",
    "\n",
    "    for v in X['crim'].unique():\n",
    "        if v > 2:\n",
    "            crim_dict[v] = 1\n",
    "        else:\n",
    "            crim_dict[v] = 0\n",
    "\n",
    "    X['crim'] = X['crim'].map(crim_dict)\n",
    "\n",
    "    # rad\n",
    "    X = pd.concat([X, pd.get_dummies(X['rad'], prefix='rad', drop_first=True)], axis=1)\n",
    "\n",
    "    # rooms\n",
    "    # X['rm'] = np.ceil(X['rm'] * 2 - 6).astype('int')\n",
    "    X['rm'] = np.round(X['rm']).astype('int')\n",
    "\n",
    "    X = pd.concat([X, pd.get_dummies(X['rm'], prefix='rm', drop_first=True)], axis=1)\n",
    "\n",
    "    # Zn\n",
    "    zn_dict = {}\n",
    "    X['zn'] = np.floor(X['zn'])\n",
    "\n",
    "    for v in X['zn'].unique():\n",
    "        if v > 0:\n",
    "            zn_dict[v] = 0\n",
    "        else:\n",
    "            zn_dict[v] = 1\n",
    "\n",
    "    X['zn'] = X['zn'].map(zn_dict)\n",
    "\n",
    "    # powers\n",
    "    feats_for_degree = ['b', 'lstat', 'dis']\n",
    "\n",
    "    for col in feats_for_degree:\n",
    "        power2 = 2\n",
    "        X[col + '^' + str(power2)] = X[col] **2\n",
    "        power3 = 3\n",
    "        X[col + '^' + str(power3)] = X[col] **3 \n",
    "\n",
    "    return X\n"
   ]
  }
 ],
 "metadata": {
  "kernelspec": {
   "display_name": "Python 3",
   "language": "python",
   "name": "python3"
  },
  "language_info": {
   "codemirror_mode": {
    "name": "ipython",
    "version": 3
   },
   "file_extension": ".py",
   "mimetype": "text/x-python",
   "name": "python",
   "nbconvert_exporter": "python",
   "pygments_lexer": "ipython3",
   "version": "3.7.10"
  },
  "papermill": {
   "default_parameters": {},
   "duration": 23.627357,
   "end_time": "2021-10-29T03:01:32.184481",
   "environment_variables": {},
   "exception": null,
   "input_path": "__notebook__.ipynb",
   "output_path": "__notebook__.ipynb",
   "parameters": {},
   "start_time": "2021-10-29T03:01:08.557124",
   "version": "2.3.3"
  }
 },
 "nbformat": 4,
 "nbformat_minor": 5
}