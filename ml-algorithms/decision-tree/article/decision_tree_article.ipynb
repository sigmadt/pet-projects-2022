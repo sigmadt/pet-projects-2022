{
 "cells": [
  {
   "cell_type": "markdown",
   "id": "23e0ab29",
   "metadata": {
    "papermill": {
     "duration": 0.02946,
     "end_time": "2021-10-02T07:09:46.840936",
     "exception": false,
     "start_time": "2021-10-02T07:09:46.811476",
     "status": "completed"
    },
    "tags": []
   },
   "source": [
    "# Imports "
   ]
  },
  {
   "cell_type": "code",
   "execution_count": 1,
   "id": "733bd727",
   "metadata": {
    "execution": {
     "iopub.execute_input": "2021-10-02T07:09:46.908818Z",
     "iopub.status.busy": "2021-10-02T07:09:46.906977Z",
     "iopub.status.idle": "2021-10-02T07:09:46.913081Z",
     "shell.execute_reply": "2021-10-02T07:09:46.912429Z",
     "shell.execute_reply.started": "2021-10-02T07:08:06.151892Z"
    },
    "papermill": {
     "duration": 0.04225,
     "end_time": "2021-10-02T07:09:46.913269",
     "exception": false,
     "start_time": "2021-10-02T07:09:46.871019",
     "status": "completed"
    },
    "tags": []
   },
   "outputs": [],
   "source": [
    "import numpy as np\n",
    "import pandas as pd\n",
    "import matplotlib.pyplot as plt\n",
    "\n",
    "from tqdm import tqdm"
   ]
  },
  {
   "cell_type": "markdown",
   "id": "090bcc45",
   "metadata": {
    "papermill": {
     "duration": 0.02842,
     "end_time": "2021-10-02T07:09:46.970753",
     "exception": false,
     "start_time": "2021-10-02T07:09:46.942333",
     "status": "completed"
    },
    "tags": []
   },
   "source": [
    "# Discussing the topic"
   ]
  },
  {
   "cell_type": "markdown",
   "id": "74ac131c",
   "metadata": {
    "papermill": {
     "duration": 0.027683,
     "end_time": "2021-10-02T07:09:47.026364",
     "exception": false,
     "start_time": "2021-10-02T07:09:46.998681",
     "status": "completed"
    },
    "tags": []
   },
   "source": [
    "In this homework we have a mission to build a DecisionTreeClassifier using only bare hands. <br>\n",
    "Steps for our implementation:\n",
    "1. Classes for Node and Leaf in a tree\n",
    "2. Functions for computing gain information while iterating nodes\n",
    "3. Defining crucial parameters for tree classifier\n",
    "4. Methods for fit and predict the results\n",
    "\n",
    "Also, we might need to validate on current data, so it is better for us to recall some metrics like *accuracy*, *precision*, *recall* and *f-score*. Btw, the last one testing system is using to check predictions."
   ]
  },
  {
   "cell_type": "markdown",
   "id": "24fe2cf4",
   "metadata": {
    "papermill": {
     "duration": 0.027642,
     "end_time": "2021-10-02T07:09:47.083335",
     "exception": false,
     "start_time": "2021-10-02T07:09:47.055693",
     "status": "completed"
    },
    "tags": []
   },
   "source": [
    "# Building Decision Tree Classifier"
   ]
  },
  {
   "cell_type": "markdown",
   "id": "9afa8737",
   "metadata": {
    "papermill": {
     "duration": 0.027843,
     "end_time": "2021-10-02T07:09:47.139171",
     "exception": false,
     "start_time": "2021-10-02T07:09:47.111328",
     "status": "completed"
    },
    "tags": []
   },
   "source": [
    "### 1. Classes for Node and Leaf in a tree"
   ]
  },
  {
   "cell_type": "markdown",
   "id": "4b994ee7",
   "metadata": {
    "papermill": {
     "duration": 0.028881,
     "end_time": "2021-10-02T07:09:47.195787",
     "exception": false,
     "start_time": "2021-10-02T07:09:47.166906",
     "status": "completed"
    },
    "tags": []
   },
   "source": [
    "Leaf class represents the last node in each branch in a tree. So when we divide our dataset we usually stop in a leaf, where we know what the samples of data are and every row refers to some class. The majority of samples that have similar class we call an answer of our algorithm. <br>\n",
    "\n",
    "So, for these reasons we need to store counts of values for given samples and the most likely class."
   ]
  },
  {
   "cell_type": "code",
   "execution_count": 2,
   "id": "b2353689",
   "metadata": {
    "execution": {
     "iopub.execute_input": "2021-10-02T07:09:47.256471Z",
     "iopub.status.busy": "2021-10-02T07:09:47.255520Z",
     "iopub.status.idle": "2021-10-02T07:09:47.262473Z",
     "shell.execute_reply": "2021-10-02T07:09:47.261968Z",
     "shell.execute_reply.started": "2021-10-02T07:08:06.164181Z"
    },
    "papermill": {
     "duration": 0.0386,
     "end_time": "2021-10-02T07:09:47.262632",
     "exception": false,
     "start_time": "2021-10-02T07:09:47.224032",
     "status": "completed"
    },
    "tags": []
   },
   "outputs": [],
   "source": [
    "class DecisionTreeLeaf:\n",
    "    def __init__(self, array):\n",
    "        self.y = None\n",
    "        self.v = array.value_counts(normalize=True)\n",
    "\n",
    "        if len(self.v.index):\n",
    "            self.y = self.v.index[0]\n",
    "        self.d = {key: val for key, val in zip(self.v.index, self.v.values)}"
   ]
  },
  {
   "cell_type": "markdown",
   "id": "98880e4a",
   "metadata": {
    "papermill": {
     "duration": 0.028221,
     "end_time": "2021-10-02T07:09:47.319325",
     "exception": false,
     "start_time": "2021-10-02T07:09:47.291104",
     "status": "completed"
    },
    "tags": []
   },
   "source": [
    "When we are staying in the node we need to decide where to go: left path or right. The decision is relying on feature and value, that gives the highest information gain in splitting. So in order to help us find the best feature for split we need to define functions."
   ]
  },
  {
   "cell_type": "markdown",
   "id": "6b1eb1f9",
   "metadata": {
    "papermill": {
     "duration": 0.028828,
     "end_time": "2021-10-02T07:09:47.377312",
     "exception": false,
     "start_time": "2021-10-02T07:09:47.348484",
     "status": "completed"
    },
    "tags": []
   },
   "source": [
    "For Node class we will store feature, its value, the links for the left and right child."
   ]
  },
  {
   "cell_type": "code",
   "execution_count": 3,
   "id": "7a9e57c3",
   "metadata": {
    "execution": {
     "iopub.execute_input": "2021-10-02T07:09:47.438716Z",
     "iopub.status.busy": "2021-10-02T07:09:47.437852Z",
     "iopub.status.idle": "2021-10-02T07:09:47.440896Z",
     "shell.execute_reply": "2021-10-02T07:09:47.440399Z",
     "shell.execute_reply.started": "2021-10-02T07:08:06.172628Z"
    },
    "papermill": {
     "duration": 0.035801,
     "end_time": "2021-10-02T07:09:47.441041",
     "exception": false,
     "start_time": "2021-10-02T07:09:47.405240",
     "status": "completed"
    },
    "tags": []
   },
   "outputs": [],
   "source": [
    "class DecisionTreeNode:\n",
    "    def __init__(self, split_dim, split_value, left, right):\n",
    "        self.split_dim = split_dim\n",
    "        self.split_value = split_value\n",
    "        self.left = left\n",
    "        self.right = right"
   ]
  },
  {
   "cell_type": "markdown",
   "id": "d7dc4f6e",
   "metadata": {
    "papermill": {
     "duration": 0.027609,
     "end_time": "2021-10-02T07:09:47.496723",
     "exception": false,
     "start_time": "2021-10-02T07:09:47.469114",
     "status": "completed"
    },
    "tags": []
   },
   "source": [
    "###  2. Functions for computing gain information. Gini and Entropy."
   ]
  },
  {
   "cell_type": "markdown",
   "id": "e342b524",
   "metadata": {
    "papermill": {
     "duration": 0.027441,
     "end_time": "2021-10-02T07:09:47.552086",
     "exception": false,
     "start_time": "2021-10-02T07:09:47.524645",
     "status": "completed"
    },
    "tags": []
   },
   "source": [
    "Statistic functions use only arrays of data and all calculations are based on statistic estimation for probabilities to be related to one particular class. In this task we will use Gini and Entropy. Gain  function represents how much information we get when split samples in a node."
   ]
  },
  {
   "cell_type": "code",
   "execution_count": 4,
   "id": "54b10bf1",
   "metadata": {
    "execution": {
     "iopub.execute_input": "2021-10-02T07:09:47.611608Z",
     "iopub.status.busy": "2021-10-02T07:09:47.610313Z",
     "iopub.status.idle": "2021-10-02T07:09:47.618447Z",
     "shell.execute_reply": "2021-10-02T07:09:47.617846Z",
     "shell.execute_reply.started": "2021-10-02T07:08:06.184713Z"
    },
    "papermill": {
     "duration": 0.038831,
     "end_time": "2021-10-02T07:09:47.618608",
     "exception": false,
     "start_time": "2021-10-02T07:09:47.579777",
     "status": "completed"
    },
    "tags": []
   },
   "outputs": [],
   "source": [
    "def gini(x):\n",
    "    probs = x.value_counts(normalize=True) ** 2\n",
    "    return 1 - probs.sum()\n",
    "    \n",
    "def entropy(x):\n",
    "    probs = x.value_counts(normalize=True)\n",
    "    p_logp = probs * (np.log2(probs))\n",
    "    return -p_logp.sum()\n",
    "\n",
    "def gain(df, feat, val, criterion):\n",
    "    if not df.shape[0]:\n",
    "        return 0\n",
    "    left = df.loc[df[feat] < val]\n",
    "    right = df.loc[df[feat] >= val]\n",
    "    return criterion(df['y']) - (left.shape[0] / df.shape[0] * criterion(left['y'])\n",
    "                           + right.shape[0] / df.shape[0] * criterion(right['y']))"
   ]
  },
  {
   "cell_type": "markdown",
   "id": "581d8dac",
   "metadata": {
    "papermill": {
     "duration": 0.027437,
     "end_time": "2021-10-02T07:09:47.673920",
     "exception": false,
     "start_time": "2021-10-02T07:09:47.646483",
     "status": "completed"
    },
    "tags": []
   },
   "source": [
    "### 3-4. Parameters and methods for the tree."
   ]
  },
  {
   "cell_type": "markdown",
   "id": "65c61db2",
   "metadata": {
    "papermill": {
     "duration": 0.035729,
     "end_time": "2021-10-02T07:09:47.745978",
     "exception": false,
     "start_time": "2021-10-02T07:09:47.710249",
     "status": "completed"
    },
    "tags": []
   },
   "source": [
    "Firstly we need to understand what attributes would be useful for the tree. We need a root, where we start iteration, we need a tree, where the nodes are stored. Also, we need model parameters such as maximum tree depth and minimum value for sample leaves, so we would know when to stop iteration."
   ]
  },
  {
   "cell_type": "markdown",
   "id": "2a33065d",
   "metadata": {
    "papermill": {
     "duration": 0.02782,
     "end_time": "2021-10-02T07:09:47.806925",
     "exception": false,
     "start_time": "2021-10-02T07:09:47.779105",
     "status": "completed"
    },
    "tags": []
   },
   "source": [
    "Methods:\n",
    "- Fitting the tree is finding the best split in each node: so we will store gaining values for several splits and choose the feature with the maximum gain. We have to build the function which is able to search best split, also we will need recursive function for visiting every node.\n",
    "- For predicting labels for the foreign data our tree should have method that assigns labels for every new observations and give this prediction probability."
   ]
  },
  {
   "cell_type": "code",
   "execution_count": 5,
   "id": "03193e79",
   "metadata": {
    "execution": {
     "iopub.execute_input": "2021-10-02T07:09:47.867186Z",
     "iopub.status.busy": "2021-10-02T07:09:47.866084Z",
     "iopub.status.idle": "2021-10-02T07:09:47.884098Z",
     "shell.execute_reply": "2021-10-02T07:09:47.884628Z",
     "shell.execute_reply.started": "2021-10-02T07:08:06.195151Z"
    },
    "papermill": {
     "duration": 0.049996,
     "end_time": "2021-10-02T07:09:47.884809",
     "exception": false,
     "start_time": "2021-10-02T07:09:47.834813",
     "status": "completed"
    },
    "tags": []
   },
   "outputs": [],
   "source": [
    "class DecisionTreeClassifier:\n",
    "    def __init__(self, criterion, max_depth=3, min_samples_leaf=15):\n",
    "        self.root = None\n",
    "        self.tree = []\n",
    "        self.max_depth = max_depth\n",
    "        self.min_samples_leaf = min_samples_leaf\n",
    "    \n",
    "    \n",
    "    def fit(self, X, y):\n",
    "        def best_split(df):\n",
    "            df_for_splits = pd.DataFrame()\n",
    "            for col in tqdm(df.drop('y', axis=1).columns):\n",
    "                vals_for_split = np.linspace(df[col].min(), df[col].max(), num = 7)\n",
    "                \n",
    "                feat_split_df = pd.DataFrame()\n",
    "                feat_split_df['vals_for_split'] = vals_for_split\n",
    "                feat_split_df['feature'] = col\n",
    "\n",
    "                feat_split_df['gain_by_criterion'] = feat_split_df['vals_for_split']. \\\n",
    "                    apply(lambda v: gain(df, col, v, gini))\n",
    "\n",
    "                df_for_splits = pd.concat([df_for_splits, feat_split_df])\n",
    "\n",
    "            df_for_splits.sort_values('gain_by_criterion', ascending=False, inplace=True)\n",
    "            best_row = df_for_splits.iloc[0]\n",
    "\n",
    "            feature_name, splitting_val = best_row['feature'], best_row['vals_for_split']\n",
    "            \n",
    "            return feature_name, splitting_val\n",
    "\n",
    "        def split_rec(tree, df, max_depth, min_samples_leaf):\n",
    "            if max_depth == 0 or df.shape[0] < min_samples_leaf or df['y'].value_counts(normalize=True).max() == 1:\n",
    "                node = DecisionTreeLeaf(df['y'])\n",
    "                return node\n",
    "\n",
    "            feat_for_split, value_for_split = best_split(df)\n",
    "\n",
    "            max_depth -= 1\n",
    "            \n",
    "            df_left = df.loc[df[feat_for_split] < value_for_split]\n",
    "            df_right = df.loc[df[feat_for_split] >= value_for_split]\n",
    "\n",
    "            node = DecisionTreeNode(feat_for_split, value_for_split, \n",
    "                                    split_rec(tree, df_left, max_depth, min_samples_leaf), \n",
    "                                    split_rec(tree, df_right, max_depth, min_samples_leaf))\n",
    "            tree.append(node)\n",
    "            return node\n",
    "\n",
    "        df = pd.concat([X, y], axis=1)\n",
    "        self.root = split_rec(self.tree, df, self.max_depth, self.min_samples_leaf)\n",
    "        \n",
    "    \n",
    "    def predict_proba(self, X):\n",
    "        proba_df = pd.DataFrame(X.index, columns=['ind'])\n",
    "        proba_dict, pred_dict = {}, {}\n",
    "\n",
    "        def sift_down(X, root, proba_dict, pred_dict):\n",
    "            if isinstance(root, DecisionTreeNode):\n",
    "                X_left = X.loc[X[root.split_dim] < root.split_value]\n",
    "                sift_down(X_left, root.left, proba_dict, pred_dict)\n",
    "\n",
    "                X_right = X.loc[X[root.split_dim] >= root.split_value]\n",
    "                sift_down(X_right, root.right, proba_dict, pred_dict)\n",
    "            else:\n",
    "                for i in X.index:\n",
    "                    proba_dict[i] = root.d\n",
    "                    pred_dict[i] = root.y\n",
    "\n",
    "        sift_down(X, self.root, proba_dict, pred_dict)\n",
    "        proba_df['pair'] = proba_df['ind'].map(proba_dict)\n",
    "        proba_df['pred'] = proba_df['ind'].map(pred_dict)\n",
    "\n",
    "        return proba_df\n",
    "            \n",
    "    \n",
    "    def predict(self, X):\n",
    "        proba = self.predict_proba(X)\n",
    "        return proba['pred']\n"
   ]
  },
  {
   "cell_type": "markdown",
   "id": "06468106",
   "metadata": {
    "papermill": {
     "duration": 0.027539,
     "end_time": "2021-10-02T07:09:48.050777",
     "exception": false,
     "start_time": "2021-10-02T07:09:48.023238",
     "status": "completed"
    },
    "tags": []
   },
   "source": [
    "# Fitting on the train data "
   ]
  },
  {
   "cell_type": "code",
   "execution_count": 6,
   "id": "f2da0a76",
   "metadata": {
    "execution": {
     "iopub.execute_input": "2021-10-02T07:09:48.114740Z",
     "iopub.status.busy": "2021-10-02T07:09:48.114084Z",
     "iopub.status.idle": "2021-10-02T07:09:48.217734Z",
     "shell.execute_reply": "2021-10-02T07:09:48.217069Z",
     "shell.execute_reply.started": "2021-10-02T07:08:06.215152Z"
    },
    "papermill": {
     "duration": 0.139309,
     "end_time": "2021-10-02T07:09:48.217952",
     "exception": false,
     "start_time": "2021-10-02T07:09:48.078643",
     "status": "completed"
    },
    "tags": []
   },
   "outputs": [],
   "source": [
    "X = pd.read_csv('data/x_spam_train.csv').drop('Id', axis=1)\n",
    "y = pd.read_csv('data/y_spam_train.csv').drop('Id', axis=1)\n",
    "\n",
    "y.rename({\"Expected\": 'y'}, inplace=True, axis=1)"
   ]
  },
  {
   "cell_type": "markdown",
   "id": "82bae3a6",
   "metadata": {
    "papermill": {
     "duration": 0.027924,
     "end_time": "2021-10-02T07:09:48.279614",
     "exception": false,
     "start_time": "2021-10-02T07:09:48.251690",
     "status": "completed"
    },
    "tags": []
   },
   "source": [
    "### Validation on given data"
   ]
  },
  {
   "cell_type": "markdown",
   "id": "0364d8a6",
   "metadata": {
    "papermill": {
     "duration": 0.036705,
     "end_time": "2021-10-02T07:09:48.347644",
     "exception": false,
     "start_time": "2021-10-02T07:09:48.310939",
     "status": "completed"
    },
    "tags": []
   },
   "source": [
    "In the last homework we defined function for splitting dataset in train and test subsets, also we defined a function that is able to compute needed metrics."
   ]
  },
  {
   "cell_type": "code",
   "execution_count": 7,
   "id": "c271861e",
   "metadata": {
    "execution": {
     "iopub.execute_input": "2021-10-02T07:09:48.420299Z",
     "iopub.status.busy": "2021-10-02T07:09:48.419364Z",
     "iopub.status.idle": "2021-10-02T07:09:48.425147Z",
     "shell.execute_reply": "2021-10-02T07:09:48.425611Z",
     "shell.execute_reply.started": "2021-10-02T07:08:06.267657Z"
    },
    "papermill": {
     "duration": 0.044572,
     "end_time": "2021-10-02T07:09:48.425796",
     "exception": false,
     "start_time": "2021-10-02T07:09:48.381224",
     "status": "completed"
    },
    "tags": []
   },
   "outputs": [],
   "source": [
    "def train_test_split(X, y, ratio=0.6, seed=17):\n",
    "    np.random.seed(seed)\n",
    "    \n",
    "    # finding the size of train and test\n",
    "    train_size = int(X.shape[0] * ratio)\n",
    "    \n",
    "    train_idx = np.random.choice(X.index, size = train_size, replace=False)\n",
    "    test_idx = [x for x in X.index if x not in train_idx]\n",
    "    \n",
    "    return X.iloc[train_idx], X.iloc[test_idx], y.iloc[train_idx], y.iloc[test_idx]"
   ]
  },
  {
   "cell_type": "markdown",
   "id": "04afca8c",
   "metadata": {
    "papermill": {
     "duration": 0.028905,
     "end_time": "2021-10-02T07:09:48.484011",
     "exception": false,
     "start_time": "2021-10-02T07:09:48.455106",
     "status": "completed"
    },
    "tags": []
   },
   "source": [
    "Testing system uses f1-score, so it is wise to validate using this metric as well. In our case we have \t$\\beta = 1$"
   ]
  },
  {
   "cell_type": "code",
   "execution_count": 8,
   "id": "6e426e99",
   "metadata": {
    "execution": {
     "iopub.execute_input": "2021-10-02T07:09:48.559591Z",
     "iopub.status.busy": "2021-10-02T07:09:48.558681Z",
     "iopub.status.idle": "2021-10-02T07:09:48.565925Z",
     "shell.execute_reply": "2021-10-02T07:09:48.566434Z",
     "shell.execute_reply.started": "2021-10-02T07:08:06.276505Z"
    },
    "papermill": {
     "duration": 0.05202,
     "end_time": "2021-10-02T07:09:48.566598",
     "exception": false,
     "start_time": "2021-10-02T07:09:48.514578",
     "status": "completed"
    },
    "tags": []
   },
   "outputs": [
    {
     "data": {
      "text/html": [
       "<img src=\"https://habrastorage.org/getpro/habr/post_images/4f1/f5c/0ab/4f1f5c0ab5dcf8379ff4bcbbd02f0623.svg\"/>"
      ],
      "text/plain": [
       "<IPython.core.display.Image object>"
      ]
     },
     "execution_count": 8,
     "metadata": {},
     "output_type": "execute_result"
    }
   ],
   "source": [
    "from IPython.display import Image\n",
    "from IPython.core.display import HTML \n",
    "Image(url= \"https://habrastorage.org/getpro/habr/post_images/4f1/f5c/0ab/4f1f5c0ab5dcf8379ff4bcbbd02f0623.svg\")"
   ]
  },
  {
   "cell_type": "code",
   "execution_count": 9,
   "id": "622bced8",
   "metadata": {
    "execution": {
     "iopub.execute_input": "2021-10-02T07:09:48.644398Z",
     "iopub.status.busy": "2021-10-02T07:09:48.643334Z",
     "iopub.status.idle": "2021-10-02T07:09:48.651804Z",
     "shell.execute_reply": "2021-10-02T07:09:48.652616Z",
     "shell.execute_reply.started": "2021-10-02T07:08:06.291733Z"
    },
    "papermill": {
     "duration": 0.053431,
     "end_time": "2021-10-02T07:09:48.652899",
     "exception": false,
     "start_time": "2021-10-02T07:09:48.599468",
     "status": "completed"
    },
    "tags": []
   },
   "outputs": [],
   "source": [
    "def print_precision_recall_accuracy_f(y_pred, y_true, main_class):\n",
    "    def get_stats(y_pred, y_true, value):\n",
    "        TP = FP = FN = TN = 0\n",
    "        for i in range(y_pred.shape[0]):\n",
    "            if y_pred[i] == value and y_true[i] == value:\n",
    "                TP +=1\n",
    "            elif y_pred[i] != value and y_true[i] == value:\n",
    "                FN += 1\n",
    "            elif y_pred[i] == value and y_true[i] != value:\n",
    "                FP += 1\n",
    "            else:\n",
    "                TN += 1\n",
    "    \n",
    "        precision = TP / (TP + FP)\n",
    "        recall = TP / (TP + FN)\n",
    "\n",
    "        accuracy = (TP + TN) / (TP + FP + FN + TN)\n",
    "        f1 = 2 * precision * recall / (precision + recall)\n",
    "        return precision, recall, accuracy, f1\n",
    "\n",
    "    prec, rec, acc, f1 = get_stats(y_pred, y_true, main_class)\n",
    "    \n",
    "    print('Precision: {:.3f}\\nRecall: {:.3f}\\nAccuracy: {:.3f}\\nF1-score: {:.3f}'.format(prec, rec, acc, f1))"
   ]
  },
  {
   "cell_type": "markdown",
   "id": "deace742",
   "metadata": {
    "papermill": {
     "duration": 0.03444,
     "end_time": "2021-10-02T07:09:48.738541",
     "exception": false,
     "start_time": "2021-10-02T07:09:48.704101",
     "status": "completed"
    },
    "tags": []
   },
   "source": [
    "### Split on train and test"
   ]
  },
  {
   "cell_type": "code",
   "execution_count": 10,
   "id": "3f44457e",
   "metadata": {
    "execution": {
     "iopub.execute_input": "2021-10-02T07:09:48.805398Z",
     "iopub.status.busy": "2021-10-02T07:09:48.804427Z",
     "iopub.status.idle": "2021-10-02T07:09:48.825445Z",
     "shell.execute_reply": "2021-10-02T07:09:48.825894Z",
     "shell.execute_reply.started": "2021-10-02T07:08:06.304296Z"
    },
    "papermill": {
     "duration": 0.057363,
     "end_time": "2021-10-02T07:09:48.826076",
     "exception": false,
     "start_time": "2021-10-02T07:09:48.768713",
     "status": "completed"
    },
    "tags": []
   },
   "outputs": [],
   "source": [
    "X_train, X_test, y_train, y_test = train_test_split(X, y)"
   ]
  },
  {
   "cell_type": "code",
   "execution_count": 11,
   "id": "66aed9b5",
   "metadata": {
    "execution": {
     "iopub.execute_input": "2021-10-02T07:09:48.889003Z",
     "iopub.status.busy": "2021-10-02T07:09:48.888083Z",
     "iopub.status.idle": "2021-10-02T07:09:48.921604Z",
     "shell.execute_reply": "2021-10-02T07:09:48.921011Z",
     "shell.execute_reply.started": "2021-10-02T07:08:06.341660Z"
    },
    "papermill": {
     "duration": 0.065118,
     "end_time": "2021-10-02T07:09:48.921753",
     "exception": false,
     "start_time": "2021-10-02T07:09:48.856635",
     "status": "completed"
    },
    "tags": []
   },
   "outputs": [
    {
     "name": "stdout",
     "output_type": "stream",
     "text": [
      "(2208, 57) (1472, 57)\n"
     ]
    },
    {
     "data": {
      "text/html": [
       "<div>\n",
       "<style scoped>\n",
       "    .dataframe tbody tr th:only-of-type {\n",
       "        vertical-align: middle;\n",
       "    }\n",
       "\n",
       "    .dataframe tbody tr th {\n",
       "        vertical-align: top;\n",
       "    }\n",
       "\n",
       "    .dataframe thead th {\n",
       "        text-align: right;\n",
       "    }\n",
       "</style>\n",
       "<table border=\"1\" class=\"dataframe\">\n",
       "  <thead>\n",
       "    <tr style=\"text-align: right;\">\n",
       "      <th></th>\n",
       "      <th>0</th>\n",
       "      <th>1</th>\n",
       "      <th>2</th>\n",
       "      <th>3</th>\n",
       "      <th>4</th>\n",
       "      <th>5</th>\n",
       "      <th>6</th>\n",
       "      <th>7</th>\n",
       "      <th>8</th>\n",
       "      <th>9</th>\n",
       "      <th>...</th>\n",
       "      <th>47</th>\n",
       "      <th>48</th>\n",
       "      <th>49</th>\n",
       "      <th>50</th>\n",
       "      <th>51</th>\n",
       "      <th>52</th>\n",
       "      <th>53</th>\n",
       "      <th>54</th>\n",
       "      <th>55</th>\n",
       "      <th>56</th>\n",
       "    </tr>\n",
       "  </thead>\n",
       "  <tbody>\n",
       "    <tr>\n",
       "      <th>3107</th>\n",
       "      <td>0.00</td>\n",
       "      <td>0.00</td>\n",
       "      <td>1.58</td>\n",
       "      <td>0.0</td>\n",
       "      <td>0.00</td>\n",
       "      <td>0.00</td>\n",
       "      <td>0.00</td>\n",
       "      <td>0.00</td>\n",
       "      <td>0.00</td>\n",
       "      <td>0.00</td>\n",
       "      <td>...</td>\n",
       "      <td>0.0</td>\n",
       "      <td>0.0</td>\n",
       "      <td>0.400</td>\n",
       "      <td>0.0</td>\n",
       "      <td>0.000</td>\n",
       "      <td>0.601</td>\n",
       "      <td>0.000</td>\n",
       "      <td>3.360</td>\n",
       "      <td>13.0</td>\n",
       "      <td>84.0</td>\n",
       "    </tr>\n",
       "    <tr>\n",
       "      <th>735</th>\n",
       "      <td>0.34</td>\n",
       "      <td>0.42</td>\n",
       "      <td>0.25</td>\n",
       "      <td>0.0</td>\n",
       "      <td>0.08</td>\n",
       "      <td>0.42</td>\n",
       "      <td>0.08</td>\n",
       "      <td>0.25</td>\n",
       "      <td>0.08</td>\n",
       "      <td>1.63</td>\n",
       "      <td>...</td>\n",
       "      <td>0.0</td>\n",
       "      <td>0.0</td>\n",
       "      <td>0.063</td>\n",
       "      <td>0.0</td>\n",
       "      <td>0.287</td>\n",
       "      <td>0.223</td>\n",
       "      <td>0.079</td>\n",
       "      <td>3.314</td>\n",
       "      <td>62.0</td>\n",
       "      <td>537.0</td>\n",
       "    </tr>\n",
       "  </tbody>\n",
       "</table>\n",
       "<p>2 rows × 57 columns</p>\n",
       "</div>"
      ],
      "text/plain": [
       "         0     1     2    3     4     5     6     7     8     9  ...   47  \\\n",
       "3107  0.00  0.00  1.58  0.0  0.00  0.00  0.00  0.00  0.00  0.00  ...  0.0   \n",
       "735   0.34  0.42  0.25  0.0  0.08  0.42  0.08  0.25  0.08  1.63  ...  0.0   \n",
       "\n",
       "       48     49   50     51     52     53     54    55     56  \n",
       "3107  0.0  0.400  0.0  0.000  0.601  0.000  3.360  13.0   84.0  \n",
       "735   0.0  0.063  0.0  0.287  0.223  0.079  3.314  62.0  537.0  \n",
       "\n",
       "[2 rows x 57 columns]"
      ]
     },
     "execution_count": 11,
     "metadata": {},
     "output_type": "execute_result"
    }
   ],
   "source": [
    "print(X_train.shape, X_test.shape)\n",
    "X_train.head(2)"
   ]
  },
  {
   "cell_type": "markdown",
   "id": "3d5f7cf6",
   "metadata": {
    "papermill": {
     "duration": 0.029135,
     "end_time": "2021-10-02T07:09:48.980909",
     "exception": false,
     "start_time": "2021-10-02T07:09:48.951774",
     "status": "completed"
    },
    "tags": []
   },
   "source": [
    "### Building simple classifier "
   ]
  },
  {
   "cell_type": "markdown",
   "id": "94dcb6e5",
   "metadata": {
    "papermill": {
     "duration": 0.030125,
     "end_time": "2021-10-02T07:09:49.040403",
     "exception": false,
     "start_time": "2021-10-02T07:09:49.010278",
     "status": "completed"
    },
    "tags": []
   },
   "source": [
    "For the baseline let's build short tree and see the results."
   ]
  },
  {
   "cell_type": "code",
   "execution_count": 12,
   "id": "e5a4413c",
   "metadata": {
    "execution": {
     "iopub.execute_input": "2021-10-02T07:09:49.107001Z",
     "iopub.status.busy": "2021-10-02T07:09:49.106375Z",
     "iopub.status.idle": "2021-10-02T07:09:58.111113Z",
     "shell.execute_reply": "2021-10-02T07:09:58.110010Z",
     "shell.execute_reply.started": "2021-10-02T07:08:06.369063Z"
    },
    "papermill": {
     "duration": 9.041424,
     "end_time": "2021-10-02T07:09:58.111338",
     "exception": false,
     "start_time": "2021-10-02T07:09:49.069914",
     "status": "completed"
    },
    "tags": []
   },
   "outputs": [
    {
     "name": "stderr",
     "output_type": "stream",
     "text": [
      "100%|██████████| 57/57 [00:01<00:00, 42.27it/s]\n",
      "100%|██████████| 57/57 [00:01<00:00, 43.71it/s]\n",
      "100%|██████████| 57/57 [00:01<00:00, 44.77it/s]\n",
      "100%|██████████| 57/57 [00:01<00:00, 46.28it/s]\n",
      "100%|██████████| 57/57 [00:01<00:00, 45.67it/s]\n",
      "100%|██████████| 57/57 [00:01<00:00, 44.26it/s]\n",
      "100%|██████████| 57/57 [00:01<00:00, 45.99it/s]\n"
     ]
    }
   ],
   "source": [
    "clf1 = DecisionTreeClassifier(gini, max_depth=3)\n",
    "\n",
    "clf1.fit(X_train, y_train)"
   ]
  },
  {
   "cell_type": "markdown",
   "id": "325d7d37",
   "metadata": {
    "papermill": {
     "duration": 0.05331,
     "end_time": "2021-10-02T07:09:58.217834",
     "exception": false,
     "start_time": "2021-10-02T07:09:58.164524",
     "status": "completed"
    },
    "tags": []
   },
   "source": [
    "Simple model fits pretty fast!"
   ]
  },
  {
   "cell_type": "markdown",
   "id": "d029bfcc",
   "metadata": {
    "papermill": {
     "duration": 0.051133,
     "end_time": "2021-10-02T07:09:58.320379",
     "exception": false,
     "start_time": "2021-10-02T07:09:58.269246",
     "status": "completed"
    },
    "tags": []
   },
   "source": [
    "Validating on train and check metric values"
   ]
  },
  {
   "cell_type": "code",
   "execution_count": 13,
   "id": "545ae4a9",
   "metadata": {
    "execution": {
     "iopub.execute_input": "2021-10-02T07:09:58.439640Z",
     "iopub.status.busy": "2021-10-02T07:09:58.431733Z",
     "iopub.status.idle": "2021-10-02T07:09:58.462430Z",
     "shell.execute_reply": "2021-10-02T07:09:58.462916Z",
     "shell.execute_reply.started": "2021-10-02T07:08:14.969796Z"
    },
    "papermill": {
     "duration": 0.091447,
     "end_time": "2021-10-02T07:09:58.463108",
     "exception": false,
     "start_time": "2021-10-02T07:09:58.371661",
     "status": "completed"
    },
    "tags": []
   },
   "outputs": [
    {
     "name": "stdout",
     "output_type": "stream",
     "text": [
      "Precision: 0.671\n",
      "Recall: 0.792\n",
      "Accuracy: 0.776\n",
      "F1-score: 0.726\n"
     ]
    }
   ],
   "source": [
    "y_pred1 = clf1.predict(X_test)\n",
    "\n",
    "print_precision_recall_accuracy_f(y_pred1, y_test.reset_index()['y'], main_class=1)"
   ]
  },
  {
   "cell_type": "markdown",
   "id": "20f8f5e2",
   "metadata": {
    "papermill": {
     "duration": 0.051812,
     "end_time": "2021-10-02T07:09:58.566300",
     "exception": false,
     "start_time": "2021-10-02T07:09:58.514488",
     "status": "completed"
    },
    "tags": []
   },
   "source": [
    "Even simple short tree gives us pretty good results. Obviously we can tune some model parameters, but we will do that later. For now let's draw our small tree."
   ]
  },
  {
   "cell_type": "markdown",
   "id": "6aa0482d",
   "metadata": {
    "papermill": {
     "duration": 0.052156,
     "end_time": "2021-10-02T07:09:58.670058",
     "exception": false,
     "start_time": "2021-10-02T07:09:58.617902",
     "status": "completed"
    },
    "tags": []
   },
   "source": [
    "Function for drawing nodes and leaves."
   ]
  },
  {
   "cell_type": "code",
   "execution_count": 14,
   "id": "0f39d5da",
   "metadata": {
    "execution": {
     "iopub.execute_input": "2021-10-02T07:09:58.784423Z",
     "iopub.status.busy": "2021-10-02T07:09:58.783753Z",
     "iopub.status.idle": "2021-10-02T07:09:58.786345Z",
     "shell.execute_reply": "2021-10-02T07:09:58.786756Z",
     "shell.execute_reply.started": "2021-10-02T07:08:15.005544Z"
    },
    "papermill": {
     "duration": 0.064764,
     "end_time": "2021-10-02T07:09:58.786928",
     "exception": false,
     "start_time": "2021-10-02T07:09:58.722164",
     "status": "completed"
    },
    "tags": []
   },
   "outputs": [],
   "source": [
    "def tree_depth(tree_root):\n",
    "    if isinstance(tree_root, DecisionTreeNode):\n",
    "        return max(tree_depth(tree_root.left), tree_depth(tree_root.right)) + 1\n",
    "    else:\n",
    "        return 1\n",
    "\n",
    "def draw_tree_rec(tree_root, x_left, x_right, y):\n",
    "    x_center = (x_right - x_left) / 2 + x_left\n",
    "    if isinstance(tree_root, DecisionTreeNode):\n",
    "        x_center = (x_right - x_left) / 2 + x_left\n",
    "        x = draw_tree_rec(tree_root.left, x_left, x_center, y - 1)\n",
    "        plt.plot((x_center, x), (y - 0.1, y - 0.9), c=(0, 0, 0))\n",
    "        x = draw_tree_rec(tree_root.right, x_center, x_right, y - 1)\n",
    "        plt.plot((x_center, x), (y - 0.1, y - 0.9), c=(0, 0, 0))\n",
    "        plt.text(x_center, y, \"x[%i] < %f\" % (int(tree_root.split_dim), tree_root.split_value),\n",
    "                horizontalalignment='center')\n",
    "    else:\n",
    "        plt.text(x_center, y, str(tree_root.y),\n",
    "                horizontalalignment='center')\n",
    "    return x_center\n",
    "\n",
    "def draw_tree(tree_root, save_path='./tree1.png'):\n",
    "    td = tree_depth(tree_root)\n",
    "    plt.figure(figsize=(0.33 * 2 ** td, 2 * td))\n",
    "    plt.xlim(-1, 1)\n",
    "    plt.ylim(0.95, td + 0.05)\n",
    "    plt.axis('off')\n",
    "    draw_tree_rec(tree_root, -1, 1, td)\n",
    "    plt.tight_layout()\n",
    "    if save_path is not None:\n",
    "        plt.savefig(save_path)\n",
    "    plt.show()"
   ]
  },
  {
   "cell_type": "code",
   "execution_count": 15,
   "id": "583d0bd8",
   "metadata": {
    "execution": {
     "iopub.execute_input": "2021-10-02T07:09:58.910880Z",
     "iopub.status.busy": "2021-10-02T07:09:58.895296Z",
     "iopub.status.idle": "2021-10-02T07:09:59.205025Z",
     "shell.execute_reply": "2021-10-02T07:09:59.205484Z",
     "shell.execute_reply.started": "2021-10-02T07:08:15.017402Z"
    },
    "papermill": {
     "duration": 0.366066,
     "end_time": "2021-10-02T07:09:59.205662",
     "exception": false,
     "start_time": "2021-10-02T07:09:58.839596",
     "status": "completed"
    },
    "tags": []
   },
   "outputs": [
    {
     "data": {
      "image/png": "[encoded data removed]",
      "text/plain": [
       "<Figure size 380.16x576 with 1 Axes>"
      ]
     },
     "metadata": {
      "needs_background": "light"
     },
     "output_type": "display_data"
    }
   ],
   "source": [
    "draw_tree(clf1.root, './clf1_tree')"
   ]
  },
  {
   "cell_type": "markdown",
   "id": "29cc8916",
   "metadata": {
    "papermill": {
     "duration": 0.053283,
     "end_time": "2021-10-02T07:09:59.314096",
     "exception": false,
     "start_time": "2021-10-02T07:09:59.260813",
     "status": "completed"
    },
    "tags": []
   },
   "source": [
    "Okay, we see that our tree might be underfitted, because we have ~50 features and this model uses only 6 for splitting. In the next subsection we will intuitively increase the max_depth parameter. But for more academic approach we should use something like GridSearch."
   ]
  },
  {
   "cell_type": "markdown",
   "id": "c45848d6",
   "metadata": {
    "papermill": {
     "duration": 0.052151,
     "end_time": "2021-10-02T07:09:59.418736",
     "exception": false,
     "start_time": "2021-10-02T07:09:59.366585",
     "status": "completed"
    },
    "tags": []
   },
   "source": [
    "### Building more complex classifier"
   ]
  },
  {
   "cell_type": "code",
   "execution_count": 16,
   "id": "197bd3eb",
   "metadata": {
    "execution": {
     "iopub.execute_input": "2021-10-02T07:09:59.529385Z",
     "iopub.status.busy": "2021-10-02T07:09:59.528708Z",
     "iopub.status.idle": "2021-10-02T07:10:21.080844Z",
     "shell.execute_reply": "2021-10-02T07:10:21.080341Z",
     "shell.execute_reply.started": "2021-10-02T07:08:15.296263Z"
    },
    "papermill": {
     "duration": 21.607884,
     "end_time": "2021-10-02T07:10:21.080999",
     "exception": false,
     "start_time": "2021-10-02T07:09:59.473115",
     "status": "completed"
    },
    "tags": []
   },
   "outputs": [
    {
     "name": "stderr",
     "output_type": "stream",
     "text": [
      "100%|██████████| 57/57 [00:01<00:00, 41.91it/s]\n",
      "100%|██████████| 57/57 [00:01<00:00, 43.30it/s]\n",
      "100%|██████████| 57/57 [00:01<00:00, 44.96it/s]\n",
      "100%|██████████| 57/57 [00:01<00:00, 45.41it/s]\n",
      "100%|██████████| 57/57 [00:01<00:00, 45.95it/s]\n",
      "100%|██████████| 57/57 [00:01<00:00, 45.61it/s]\n",
      "100%|██████████| 57/57 [00:01<00:00, 45.38it/s]\n",
      "100%|██████████| 57/57 [00:01<00:00, 46.42it/s]\n",
      "100%|██████████| 57/57 [00:01<00:00, 45.50it/s]\n",
      "100%|██████████| 57/57 [00:01<00:00, 45.19it/s]\n",
      "100%|██████████| 57/57 [00:01<00:00, 46.18it/s]\n",
      "100%|██████████| 57/57 [00:01<00:00, 46.31it/s]\n",
      "100%|██████████| 57/57 [00:01<00:00, 45.07it/s]\n",
      "100%|██████████| 57/57 [00:01<00:00, 45.70it/s]\n",
      "100%|██████████| 57/57 [00:01<00:00, 45.55it/s]\n",
      "100%|██████████| 57/57 [00:01<00:00, 45.38it/s]\n",
      "100%|██████████| 57/57 [00:01<00:00, 45.97it/s]\n"
     ]
    }
   ],
   "source": [
    "clf2 = DecisionTreeClassifier(gini, max_depth=5)\n",
    "\n",
    "clf2.fit(X_train, y_train)"
   ]
  },
  {
   "cell_type": "markdown",
   "id": "85fed777",
   "metadata": {
    "papermill": {
     "duration": 0.105471,
     "end_time": "2021-10-02T07:10:21.293918",
     "exception": false,
     "start_time": "2021-10-02T07:10:21.188447",
     "status": "completed"
    },
    "tags": []
   },
   "source": [
    "Oh! This model learned a bit longer, since we gave it more freedom for going deeper. Let's hope the results will be better on validation"
   ]
  },
  {
   "cell_type": "code",
   "execution_count": 17,
   "id": "62e284a9",
   "metadata": {
    "execution": {
     "iopub.execute_input": "2021-10-02T07:10:21.579406Z",
     "iopub.status.busy": "2021-10-02T07:10:21.572110Z",
     "iopub.status.idle": "2021-10-02T07:10:21.595602Z",
     "shell.execute_reply": "2021-10-02T07:10:21.595029Z",
     "shell.execute_reply.started": "2021-10-02T07:08:36.077113Z"
    },
    "papermill": {
     "duration": 0.172942,
     "end_time": "2021-10-02T07:10:21.595750",
     "exception": false,
     "start_time": "2021-10-02T07:10:21.422808",
     "status": "completed"
    },
    "tags": []
   },
   "outputs": [
    {
     "name": "stdout",
     "output_type": "stream",
     "text": [
      "Precision: 0.756\n",
      "Recall: 0.819\n",
      "Accuracy: 0.833\n",
      "F1-score: 0.786\n"
     ]
    }
   ],
   "source": [
    "y_pred2 = clf2.predict(X_test)\n",
    "\n",
    "print_precision_recall_accuracy_f(y_pred2, y_test.reset_index()['y'], main_class=1)"
   ]
  },
  {
   "cell_type": "markdown",
   "id": "ab526ce0",
   "metadata": {
    "papermill": {
     "duration": 0.10561,
     "end_time": "2021-10-02T07:10:21.819417",
     "exception": false,
     "start_time": "2021-10-02T07:10:21.713807",
     "status": "completed"
    },
    "tags": []
   },
   "source": [
    "Yep, all metrics are higher. Let's draw decision tree for classifier 2."
   ]
  },
  {
   "cell_type": "code",
   "execution_count": 18,
   "id": "1f32758b",
   "metadata": {
    "execution": {
     "iopub.execute_input": "2021-10-02T07:10:22.056526Z",
     "iopub.status.busy": "2021-10-02T07:10:22.054733Z",
     "iopub.status.idle": "2021-10-02T07:10:22.632287Z",
     "shell.execute_reply": "2021-10-02T07:10:22.631792Z",
     "shell.execute_reply.started": "2021-10-02T07:08:36.118576Z"
    },
    "papermill": {
     "duration": 0.7064,
     "end_time": "2021-10-02T07:10:22.632432",
     "exception": false,
     "start_time": "2021-10-02T07:10:21.926032",
     "status": "completed"
    },
    "tags": []
   },
   "outputs": [
    {
     "data": {
      "image/png": "[encoded data removed]",
      "text/plain": [
       "<Figure size 1520.64x864 with 1 Axes>"
      ]
     },
     "metadata": {
      "needs_background": "light"
     },
     "output_type": "display_data"
    }
   ],
   "source": [
    "draw_tree(clf2.root, './clf2_tree')"
   ]
  },
  {
   "cell_type": "code",
   "execution_count": 19,
   "id": "911ca3c6",
   "metadata": {
    "execution": {
     "iopub.execute_input": "2021-10-02T07:10:22.895685Z",
     "iopub.status.busy": "2021-10-02T07:10:22.894994Z",
     "iopub.status.idle": "2021-10-02T07:10:22.897909Z",
     "shell.execute_reply": "2021-10-02T07:10:22.897436Z",
     "shell.execute_reply.started": "2021-10-02T07:08:36.687487Z"
    },
    "papermill": {
     "duration": 0.126695,
     "end_time": "2021-10-02T07:10:22.898044",
     "exception": false,
     "start_time": "2021-10-02T07:10:22.771349",
     "status": "completed"
    },
    "tags": []
   },
   "outputs": [
    {
     "name": "stdout",
     "output_type": "stream",
     "text": [
      "Number of features used: 11\n"
     ]
    }
   ],
   "source": [
    "print('Number of features used: {}'.format(len(set([node.split_dim for node in clf2.tree]))))"
   ]
  },
  {
   "cell_type": "markdown",
   "id": "0bd8948b",
   "metadata": {
    "papermill": {
     "duration": 0.110887,
     "end_time": "2021-10-02T07:10:23.118897",
     "exception": false,
     "start_time": "2021-10-02T07:10:23.008010",
     "status": "completed"
    },
    "tags": []
   },
   "source": [
    "It is obvious that tuning parameters is crucial part of fitting the model, but in this case our goal was to implement working implementation for the Decision Tree Classifier, in my opinion we did great job here."
   ]
  },
  {
   "cell_type": "markdown",
   "id": "3b7452b7",
   "metadata": {
    "papermill": {
     "duration": 0.110255,
     "end_time": "2021-10-02T07:10:23.337564",
     "exception": false,
     "start_time": "2021-10-02T07:10:23.227309",
     "status": "completed"
    },
    "tags": []
   },
   "source": [
    "# Comparing results with KNN model"
   ]
  },
  {
   "cell_type": "code",
   "execution_count": 20,
   "id": "8968c706",
   "metadata": {
    "execution": {
     "iopub.execute_input": "2021-10-02T07:10:23.560308Z",
     "iopub.status.busy": "2021-10-02T07:10:23.559575Z",
     "iopub.status.idle": "2021-10-02T07:10:24.791464Z",
     "shell.execute_reply": "2021-10-02T07:10:24.790855Z",
     "shell.execute_reply.started": "2021-10-02T07:08:36.694971Z"
    },
    "papermill": {
     "duration": 1.34554,
     "end_time": "2021-10-02T07:10:24.791626",
     "exception": false,
     "start_time": "2021-10-02T07:10:23.446086",
     "status": "completed"
    },
    "tags": []
   },
   "outputs": [],
   "source": [
    "from sklearn.neighbors import KNeighborsClassifier"
   ]
  },
  {
   "cell_type": "code",
   "execution_count": 21,
   "id": "0f751043",
   "metadata": {
    "execution": {
     "iopub.execute_input": "2021-10-02T07:10:25.017255Z",
     "iopub.status.busy": "2021-10-02T07:10:25.016590Z",
     "iopub.status.idle": "2021-10-02T07:10:25.037816Z",
     "shell.execute_reply": "2021-10-02T07:10:25.036995Z",
     "shell.execute_reply.started": "2021-10-02T07:08:37.126346Z"
    },
    "papermill": {
     "duration": 0.137956,
     "end_time": "2021-10-02T07:10:25.037965",
     "exception": false,
     "start_time": "2021-10-02T07:10:24.900009",
     "status": "completed"
    },
    "tags": []
   },
   "outputs": [
    {
     "data": {
      "text/plain": [
       "KNeighborsClassifier(n_neighbors=7)"
      ]
     },
     "execution_count": 21,
     "metadata": {},
     "output_type": "execute_result"
    }
   ],
   "source": [
    "knn = KNeighborsClassifier(7)\n",
    "\n",
    "knn.fit(X_train, y_train['y'])"
   ]
  },
  {
   "cell_type": "code",
   "execution_count": 22,
   "id": "baf5a45b",
   "metadata": {
    "execution": {
     "iopub.execute_input": "2021-10-02T07:10:25.266600Z",
     "iopub.status.busy": "2021-10-02T07:10:25.265875Z",
     "iopub.status.idle": "2021-10-02T07:10:25.372961Z",
     "shell.execute_reply": "2021-10-02T07:10:25.373703Z",
     "shell.execute_reply.started": "2021-10-02T07:08:37.147837Z"
    },
    "papermill": {
     "duration": 0.224628,
     "end_time": "2021-10-02T07:10:25.373961",
     "exception": false,
     "start_time": "2021-10-02T07:10:25.149333",
     "status": "completed"
    },
    "tags": []
   },
   "outputs": [
    {
     "name": "stdout",
     "output_type": "stream",
     "text": [
      "KNN results:\n",
      "Precision: 0.721\n",
      "Recall: 0.685\n",
      "Accuracy: 0.782\n",
      "F1-score: 0.703\n",
      "------------\n",
      "Precision: 0.756\n",
      "Recall: 0.819\n",
      "Accuracy: 0.833\n",
      "F1-score: 0.786\n"
     ]
    }
   ],
   "source": [
    "y_pred_knn = knn.predict(X_test)\n",
    "\n",
    "print('KNN results:')\n",
    "print_precision_recall_accuracy_f(y_pred_knn, y_test.reset_index()['y'], main_class=1)\n",
    "print('------------')\n",
    "print_precision_recall_accuracy_f(y_pred2, y_test.reset_index()['y'], main_class=1)"
   ]
  },
  {
   "cell_type": "markdown",
   "id": "b60862f7",
   "metadata": {
    "papermill": {
     "duration": 0.111372,
     "end_time": "2021-10-02T07:10:25.596910",
     "exception": false,
     "start_time": "2021-10-02T07:10:25.485538",
     "status": "completed"
    },
    "pycharm": {
     "name": "#%% md\n"
    },
    "tags": []
   },
   "source": [
    "We see that metric shows us worse results compare to decision tree classifier. Let's try to discuss what are the benefits to use knn or decision tree for the classification problem.\n",
    "\n",
    "1. KNN model works only with numeric data, so if given data has categorical features we need to process them in order to fit the model.\n",
    "2. KNN is \"lazy learner\", since it starts computing only when test data is provided. So if we have data streams it is good, but on large datasets the ide of recomputing is bad.\n",
    "3. Yet again, on large datasets `n_neighbors` parameter is usually >150, so it is complicated to interpret.\n",
    "4. Also, KNN relates to the fact, that it has \"curse of dimensionality\". If there are a lot of features KNN will not perform well.\n",
    "\n",
    "Decision tree also has pros and cons:\n",
    "\n",
    "1. It is well design for human interpretation: if income of a given person > 300.000$/sec, then it is SW/ML engineer and so on.\n",
    "2. Once it is fitted, predictions for new data could be built. Tree needs time to be built, but the process of making predictions is fast.\n",
    "3. Decision tree can split in each node for both numeric and categorical features.\n",
    "4. However, the tree is not stable for noise and changing in data: the whole tree might be rearranged.\n",
    "5. Decision tree predictions rely on what the model see in training set, so it can only interpolate.\n",
    "\n",
    "<br>\n",
    "Taking it into consideration in my opinion it is easier and more effecient to predict using decision tree. Possible values of hyper parametrs are not that high, fast learning and predciting, good understanding for me as a coder on what is under the hood. Also KNN works worse with the large amount of features, in this case we have ~50, so decision tree is our best choice.\n"
   ]
  }
 ],
 "metadata": {
  "kernelspec": {
   "display_name": "Python 3 (ipykernel)",
   "language": "python",
   "name": "python3"
  },
  "language_info": {
   "codemirror_mode": {
    "name": "ipython",
    "version": 3
   },
   "file_extension": ".py",
   "mimetype": "text/x-python",
   "name": "python",
   "nbconvert_exporter": "python",
   "pygments_lexer": "ipython3",
   "version": "3.7.5"
  },
  "papermill": {
   "default_parameters": {},
   "duration": 48.632516,
   "end_time": "2021-10-02T07:10:27.981541",
   "environment_variables": {},
   "exception": null,
   "input_path": "__notebook__.ipynb",
   "output_path": "__notebook__.ipynb",
   "parameters": {},
   "start_time": "2021-10-02T07:09:39.349025",
   "version": "2.3.3"
  }
 },
 "nbformat": 4,
 "nbformat_minor": 5
}